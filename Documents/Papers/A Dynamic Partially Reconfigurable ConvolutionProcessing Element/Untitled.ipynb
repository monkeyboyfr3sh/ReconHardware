{
 "cells": [
  {
   "cell_type": "code",
   "execution_count": 1,
   "id": "developed-webster",
   "metadata": {},
   "outputs": [
    {
     "data": {
      "text/html": [
       "<div>\n",
       "<style scoped>\n",
       "    .dataframe tbody tr th:only-of-type {\n",
       "        vertical-align: middle;\n",
       "    }\n",
       "\n",
       "    .dataframe tbody tr th {\n",
       "        vertical-align: top;\n",
       "    }\n",
       "\n",
       "    .dataframe thead th {\n",
       "        text-align: right;\n",
       "    }\n",
       "</style>\n",
       "<table border=\"1\" class=\"dataframe\">\n",
       "  <thead>\n",
       "    <tr style=\"text-align: right;\">\n",
       "      <th></th>\n",
       "      <th>label</th>\n",
       "      <th>x</th>\n",
       "      <th>y</th>\n",
       "    </tr>\n",
       "  </thead>\n",
       "  <tbody>\n",
       "    <tr>\n",
       "      <th>0</th>\n",
       "      <td>Ugly</td>\n",
       "      <td>0</td>\n",
       "      <td>10</td>\n",
       "    </tr>\n",
       "    <tr>\n",
       "      <th>1</th>\n",
       "      <td>Ugly</td>\n",
       "      <td>1</td>\n",
       "      <td>12</td>\n",
       "    </tr>\n",
       "    <tr>\n",
       "      <th>2</th>\n",
       "      <td>Ugly</td>\n",
       "      <td>2</td>\n",
       "      <td>15</td>\n",
       "    </tr>\n",
       "    <tr>\n",
       "      <th>3</th>\n",
       "      <td>Ugly</td>\n",
       "      <td>3</td>\n",
       "      <td>19</td>\n",
       "    </tr>\n",
       "    <tr>\n",
       "      <th>4</th>\n",
       "      <td>Ugly</td>\n",
       "      <td>4</td>\n",
       "      <td>25</td>\n",
       "    </tr>\n",
       "  </tbody>\n",
       "</table>\n",
       "</div>"
      ],
      "text/plain": [
       "  label  x   y\n",
       "0  Ugly  0  10\n",
       "1  Ugly  1  12\n",
       "2  Ugly  2  15\n",
       "3  Ugly  3  19\n",
       "4  Ugly  4  25"
      ]
     },
     "execution_count": 1,
     "metadata": {},
     "output_type": "execute_result"
    }
   ],
   "source": [
    "import plotly.graph_objs as go\n",
    "import numpy as np\n",
    "import pandas as pd\n",
    "\n",
    "# Define bar properties\n",
    "bar_heights = [10, 12, 15, 19, 25, 28, 31, 33, 43, 50, 64, 72, 88, 105]\n",
    "bins = [0, 25, 40, 80, 200]\n",
    "labels = ['Ugly', 'Bad', 'Good', 'Great']\n",
    "\n",
    "colors = {'Ugly': 'red',\n",
    "          'Bad': 'orange',\n",
    "          'Good': 'lightgreen',\n",
    "          'Great': 'darkgreen'}\n",
    "\n",
    "# Build dataframe\n",
    "df = pd.DataFrame({'y': bar_heights,\n",
    "                   'x': range(len(bar_heights)),\n",
    "                   'label': pd.cut(bar_heights, bins=bins, labels=labels)})\n",
    "df.head()"
   ]
  },
  {
   "cell_type": "code",
   "execution_count": 8,
   "id": "waiting-february",
   "metadata": {},
   "outputs": [
    {
     "data": {
      "application/vnd.jupyter.widget-view+json": {
       "model_id": "2477970400c549a583e5a19e1fcc8c6a",
       "version_major": 2,
       "version_minor": 0
      },
      "text/plain": [
       "FigureWidget({\n",
       "    'data': [{'marker': {'color': 'red'},\n",
       "              'name': 'Ugly',\n",
       "              'type': '…"
      ]
     },
     "metadata": {},
     "output_type": "display_data"
    }
   ],
   "source": [
    "bars = []\n",
    "for label, label_df in df.groupby('label'):\n",
    "    bars.append(go.Bar(x=label_df.x,y=label_df.y,name=label,marker={'color': colors[label]}))\n",
    "go.FigureWidget(data=bars)"
   ]
  },
  {
   "cell_type": "code",
   "execution_count": 3,
   "id": "cubic-translator",
   "metadata": {},
   "outputs": [],
   "source": [
    "import plotly.graph_objects as go\n",
    "import plotly.io as pio\n",
    "\n",
    "data_points = 15\n",
    "\n",
    "colors = []\n",
    "for i in range(0,5): colors.append('crimson')\n",
    "for i in range(5,10): colors.append('darkgreen')\n",
    "for i in range(5,10): colors.append('darkblue')\n",
    "\n",
    "x= [\n",
    "    [\n",
    "        '8 bit','8 bit','8 bit','8 bit','8 bit',\n",
    "        '16 bit','16 bit','16 bit','16 bit','16 bit',\n",
    "        '32 bit','32 bit','32 bit','32 bit','32 bit'\n",
    "    ],\n",
    "    [\n",
    "        '120px', '240px', '480px','720px', '1080px',\n",
    "        '120px', '240px', '480px','720px', '1080px',\n",
    "        '120px', '240px', '480px','720px', '1080px'\n",
    "    ]\n",
    "]\n",
    "y=[\n",
    "    11.194, 31.927, 135.127, 314.442, 663.876,\n",
    "    11.725, 34.632,  142.105, 329.672, 687.102,\n",
    "    12.247, 37.333,  149.084, 348.584, 717.946\n",
    "]\n",
    "\n",
    "fig = go.Figure(data=[go.Bar(\n",
    "    x=x, y=y,\n",
    "    text=y,\n",
    "#     layout_yaxis_range=[0,720],\n",
    "    textposition='outside',\n",
    "    marker_color=colors # marker color can be a single color value or an iterable\n",
    ")])\n",
    "\n",
    "fig.update_layout(\n",
    "    xaxis_title='Benchmark Parameters',\n",
    "    yaxis_title='Processing Time per Image (ms)',\n",
    "    font=dict(\n",
    "        family=\"Times New Roman\",\n",
    "        size=18,\n",
    "        color='Black'\n",
    "    )\n",
    ")\n",
    "\n",
    "fig.update_layout(yaxis_range=[0,800])\n",
    "\n",
    "fig.write_image('Benchmark-Results.svg')"
   ]
  },
  {
   "cell_type": "code",
   "execution_count": null,
   "id": "serial-chamber",
   "metadata": {},
   "outputs": [],
   "source": []
  }
 ],
 "metadata": {
  "kernelspec": {
   "display_name": "Python 3",
   "language": "python",
   "name": "python3"
  },
  "language_info": {
   "codemirror_mode": {
    "name": "ipython",
    "version": 3
   },
   "file_extension": ".py",
   "mimetype": "text/x-python",
   "name": "python",
   "nbconvert_exporter": "python",
   "pygments_lexer": "ipython3",
   "version": "3.6.9"
  }
 },
 "nbformat": 4,
 "nbformat_minor": 5
}
