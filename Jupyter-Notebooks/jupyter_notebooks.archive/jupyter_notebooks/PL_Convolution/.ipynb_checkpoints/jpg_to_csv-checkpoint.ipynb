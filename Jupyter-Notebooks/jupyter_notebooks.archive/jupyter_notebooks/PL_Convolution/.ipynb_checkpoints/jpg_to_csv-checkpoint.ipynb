{
 "cells": [
  {
   "cell_type": "code",
   "execution_count": null,
   "metadata": {},
   "outputs": [],
   "source": [
    "from PIL import Image\n",
    "import numpy as np\n",
    "import sys\n",
    "import os\n",
    "import csv"
   ]
  },
  {
   "cell_type": "code",
   "execution_count": null,
   "metadata": {},
   "outputs": [],
   "source": [
    "#Useful function\n",
    "def createFileList(myDir, format='.jpg'):\n",
    "    fileList = []\n",
    "    print(myDir)\n",
    "    for root, dirs, files in os.walk(myDir, topdown=False):\n",
    "        for name in files:\n",
    "            if name.endswith(format):\n",
    "                fullName = os.path.join(root, name)\n",
    "                fileList.append(fullName)\n",
    "    return fileList"
   ]
  },
  {
   "cell_type": "code",
   "execution_count": 1,
   "metadata": {},
   "outputs": [
    {
     "ename": "IndentationError",
     "evalue": "expected an indented block (<ipython-input-1-11984162ce7c>, line 9)",
     "output_type": "error",
     "traceback": [
      "\u001b[0;36m  File \u001b[0;32m\"<ipython-input-1-11984162ce7c>\"\u001b[0;36m, line \u001b[0;32m9\u001b[0m\n\u001b[0;31m    fileList = []\u001b[0m\n\u001b[0m           ^\u001b[0m\n\u001b[0;31mIndentationError\u001b[0m\u001b[0;31m:\u001b[0m expected an indented block\n"
     ]
    }
   ],
   "source": [
    "\n",
    "\n",
    "# load the original image\n",
    "myFileList = createFileList('Images/Testing/')\n",
    "\n",
    "for file in myFileList:\n",
    "    print(file)\n",
    "    img_file = Image.open(file)\n",
    "    # img_file.show()\n",
    "\n",
    "    # get original image parameters...\n",
    "    width, height = img_file.size\n",
    "    format = img_file.format\n",
    "    mode = img_file.mode\n",
    "\n",
    "    # Make image Greyscale\n",
    "    img_grey = img_file.convert('L')\n",
    "    #img_grey.save('result.png')\n",
    "    #img_grey.show()\n",
    "\n",
    "    # Save Greyscale values\n",
    "    value = np.asarray(img_grey.getdata(), dtype=np.int).reshape((img_grey.size[1], img_grey.size[0]))\n",
    "    value = value.flatten()\n",
    "    print(value)\n",
    "    with open(\"img_pixels.csv\", 'a') as f:\n",
    "        writer = csv.writer(f)\n",
    "        writer.writerow(value)"
   ]
  },
  {
   "cell_type": "code",
   "execution_count": null,
   "metadata": {},
   "outputs": [],
   "source": []
  }
 ],
 "metadata": {
  "kernelspec": {
   "display_name": "Python 3",
   "language": "python",
   "name": "python3"
  },
  "language_info": {
   "codemirror_mode": {
    "name": "ipython",
    "version": 3
   },
   "file_extension": ".py",
   "mimetype": "text/x-python",
   "name": "python",
   "nbconvert_exporter": "python",
   "pygments_lexer": "ipython3",
   "version": "3.6.9"
  }
 },
 "nbformat": 4,
 "nbformat_minor": 2
}
