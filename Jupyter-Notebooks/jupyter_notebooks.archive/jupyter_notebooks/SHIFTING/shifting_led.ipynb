{
 "cells": [
  {
   "cell_type": "code",
   "execution_count": 1,
   "metadata": {},
   "outputs": [
    {
     "data": {
      "application/javascript": [
       "\n",
       "try {\n",
       "require(['notebook/js/codecell'], function(codecell) {\n",
       "  codecell.CodeCell.options_default.highlight_modes[\n",
       "      'magic_text/x-csrc'] = {'reg':[/^%%microblaze/]};\n",
       "  Jupyter.notebook.events.one('kernel_ready.Kernel', function(){\n",
       "      Jupyter.notebook.get_cells().map(function(cell){\n",
       "          if (cell.cell_type == 'code'){ cell.auto_highlight(); } }) ;\n",
       "  });\n",
       "});\n",
       "} catch (e) {};\n"
      ]
     },
     "metadata": {},
     "output_type": "display_data"
    },
    {
     "data": {
      "application/javascript": [
       "\n",
       "try {\n",
       "require(['notebook/js/codecell'], function(codecell) {\n",
       "  codecell.CodeCell.options_default.highlight_modes[\n",
       "      'magic_text/x-csrc'] = {'reg':[/^%%pybind11/]};\n",
       "  Jupyter.notebook.events.one('kernel_ready.Kernel', function(){\n",
       "      Jupyter.notebook.get_cells().map(function(cell){\n",
       "          if (cell.cell_type == 'code'){ cell.auto_highlight(); } }) ;\n",
       "  });\n",
       "});\n",
       "} catch (e) {};\n"
      ]
     },
     "metadata": {},
     "output_type": "display_data"
    }
   ],
   "source": [
    "from pynq import Overlay\n",
    "from pynq import allocate\n",
    "from pprint import pprint\n",
    "import numpy as np"
   ]
  },
  {
   "cell_type": "code",
   "execution_count": 30,
   "metadata": {},
   "outputs": [],
   "source": [
    "# ol = Overlay('shift_left_full.bit')\n",
    "# ol = Overlay('shift_right_full.bit')\n",
    "ol = Overlay('grey_full.bit')\n",
    "count_ip = ol.axi_gpio_0\n",
    "dfx_controller = ol.dfx_controller_0\n",
    "\n",
    "dfx_stat_ctrl_addr = 0x0\n",
    "dfx_sw_trig_addr = 0x4\n",
    "dfx_trig0_addr = 0x20\n",
    "dfx_trig1_addr = 0x24"
   ]
  },
  {
   "cell_type": "code",
   "execution_count": 5,
   "metadata": {},
   "outputs": [
    {
     "name": "stdout",
     "output_type": "stream",
     "text": [
      "Setting count to 5000000 / 0x4c4b40\n"
     ]
    }
   ],
   "source": [
    "count = 5000000\n",
    "count_ip.write(0x0,count)\n",
    "print(\"Setting count to\",count,\"/\",hex(count))"
   ]
  },
  {
   "cell_type": "code",
   "execution_count": 6,
   "metadata": {},
   "outputs": [
    {
     "name": "stdout",
     "output_type": "stream",
     "text": [
      "shift_left_partial.bin was loaded from SD with size of 146536 bytes.\n"
     ]
    }
   ],
   "source": [
    "filename = 'shift_left_partial.bin'\n",
    "file = np.fromfile(filename, dtype=np.uint8, count=-1, sep='',)\n",
    "\n",
    "print(filename,\"was loaded from SD with size of\",file.size,\"bytes.\")"
   ]
  },
  {
   "cell_type": "code",
   "execution_count": 7,
   "metadata": {},
   "outputs": [
    {
     "name": "stdout",
     "output_type": "stream",
     "text": [
      "shift_left_partial.bin was allocated into memory starting at address 0x16880000 with block size 146536 bytes.\n"
     ]
    }
   ],
   "source": [
    "left_buffer = allocate(shape=(file.size,),dtype=np.uint8, cacheable=1)\n",
    "left_buffer[:] = file[:]\n",
    "\n",
    "# partial_bit_addr = int(left_buffer.device_address/8)\n",
    "partial_bit_addr = left_buffer.physical_address\n",
    "\n",
    "print(filename,\"was allocated into memory starting at address\",hex(partial_bit_addr),\"with block size\",left_buffer.size,\"bytes.\")"
   ]
  },
  {
   "cell_type": "code",
   "execution_count": 9,
   "metadata": {},
   "outputs": [
    {
     "name": "stdout",
     "output_type": "stream",
     "text": [
      "DFX controller STATUS register:\n",
      "\n",
      "0b111\n"
     ]
    }
   ],
   "source": [
    "print(\"DFX controller STATUS register:\\n\")\n",
    "print(bin(dfx_controller.read(dfx_stat_ctrl_addr)))"
   ]
  },
  {
   "cell_type": "code",
   "execution_count": 17,
   "metadata": {},
   "outputs": [
    {
     "name": "stdout",
     "output_type": "stream",
     "text": [
      "Putting DFX controller in shutdown state.\n"
     ]
    }
   ],
   "source": [
    "dfx_controller.write(dfx_stat_ctrl_addr,0)\n",
    "\n",
    "print(\"Putting DFX controller in shutdown state.\")"
   ]
  },
  {
   "cell_type": "code",
   "execution_count": 18,
   "metadata": {},
   "outputs": [
    {
     "name": "stdout",
     "output_type": "stream",
     "text": [
      "DFX controller STATUS register:\n",
      "\n",
      "0b10000001\n"
     ]
    }
   ],
   "source": [
    "print(\"DFX controller STATUS register:\\n\")\n",
    "print(bin(dfx_controller.read(dfx_stat_ctrl_addr)))"
   ]
  },
  {
   "cell_type": "code",
   "execution_count": 19,
   "metadata": {},
   "outputs": [
    {
     "name": "stdout",
     "output_type": "stream",
     "text": [
      "Partial bitstream address written to dfx controller address 0x64.\n",
      "Partial bitstream size was written to dfx controller address 0x68.\n",
      "Partial bitstream address written to dfx controller address 0x74.\n",
      "Partial bitstream size was written to dfx controller address 0x78.\n"
     ]
    }
   ],
   "source": [
    "dfx_controller.write(0x60,0)\n",
    "dfx_controller.write(0x64,int(partial_bit_addr))\n",
    "dfx_controller.write(0x68,int(left_buffer.size))\n",
    "dfx_controller.write(0x70,1)\n",
    "dfx_controller.write(0x74,int(partial_bit_addr))\n",
    "dfx_controller.write(0x78,int(left_buffer.size))\n",
    "\n",
    "print(\"Partial bitstream address written to dfx controller address 0x64.\")\n",
    "print(\"Partial bitstream size was written to dfx controller address 0x68.\")\n",
    "print(\"Partial bitstream address written to dfx controller address 0x74.\")\n",
    "print(\"Partial bitstream size was written to dfx controller address 0x78.\")"
   ]
  },
  {
   "cell_type": "code",
   "execution_count": 24,
   "metadata": {},
   "outputs": [
    {
     "data": {
      "text/plain": [
       "0"
      ]
     },
     "execution_count": 24,
     "metadata": {},
     "output_type": "execute_result"
    }
   ],
   "source": [
    "dfx_controller.read(0x64)"
   ]
  },
  {
   "cell_type": "code",
   "execution_count": 25,
   "metadata": {},
   "outputs": [
    {
     "name": "stdout",
     "output_type": "stream",
     "text": [
      "DFX controller STATUS register:\n",
      "\n",
      "0b111\n"
     ]
    }
   ],
   "source": [
    "print(\"DFX controller STATUS register:\\n\")\n",
    "print(bin(dfx_controller.read(dfx_stat_ctrl_addr)))"
   ]
  },
  {
   "cell_type": "code",
   "execution_count": 22,
   "metadata": {},
   "outputs": [
    {
     "name": "stdout",
     "output_type": "stream",
     "text": [
      "Restart DFX controller with status, mark virtual socket as empty.\n"
     ]
    }
   ],
   "source": [
    "# dfx_controller.write(dfx_stat_ctrl_addr,258)\n",
    "# print(\"Restart DFX controller with status, mark virtual socket as full.\")\n",
    "\n",
    "dfx_controller.write(dfx_stat_ctrl_addr,2)\n",
    "print(\"Restart DFX controller with status, mark virtual socket as empty.\")"
   ]
  },
  {
   "cell_type": "code",
   "execution_count": 26,
   "metadata": {},
   "outputs": [
    {
     "name": "stdout",
     "output_type": "stream",
     "text": [
      "DFX controller STATUS register:\n",
      "\n",
      "0b111\n"
     ]
    }
   ],
   "source": [
    "print(\"DFX controller STATUS register:\\n\")\n",
    "print(bin(dfx_controller.read(dfx_stat_ctrl_addr)))"
   ]
  },
  {
   "cell_type": "code",
   "execution_count": 29,
   "metadata": {},
   "outputs": [
    {
     "name": "stdout",
     "output_type": "stream",
     "text": [
      "Software trigger 0 for partial reconfiguration set.\n"
     ]
    }
   ],
   "source": [
    "dfx_controller.write(dfx_sw_trig_addr,1)\n",
    "\n",
    "print(\"Software trigger 0 for partial reconfiguration set.\")"
   ]
  },
  {
   "cell_type": "code",
   "execution_count": 28,
   "metadata": {},
   "outputs": [
    {
     "name": "stdout",
     "output_type": "stream",
     "text": [
      "DFX controller STATUS register:\n",
      "\n",
      "0b100000111\n"
     ]
    }
   ],
   "source": [
    "print(\"DFX controller STATUS register:\\n\")\n",
    "print(bin(dfx_controller.read(dfx_stat_ctrl_addr)))"
   ]
  },
  {
   "cell_type": "code",
   "execution_count": null,
   "metadata": {},
   "outputs": [],
   "source": [
    "dfx_controller.write(dfx_stat_ctrl_addr,3)\n",
    "print(\"Telling DFX controller to PROCEED with PR on RM.\")"
   ]
  },
  {
   "cell_type": "code",
   "execution_count": null,
   "metadata": {},
   "outputs": [],
   "source": [
    "print(\"DFX controller STATUS register:\\n\")\n",
    "print(bin(dfx_controller.read(dfx_stat_ctrl_addr)))"
   ]
  },
  {
   "cell_type": "code",
   "execution_count": null,
   "metadata": {},
   "outputs": [],
   "source": []
  }
 ],
 "metadata": {
  "kernelspec": {
   "display_name": "Python 3",
   "language": "python",
   "name": "python3"
  },
  "language_info": {
   "codemirror_mode": {
    "name": "ipython",
    "version": 3
   },
   "file_extension": ".py",
   "mimetype": "text/x-python",
   "name": "python",
   "nbconvert_exporter": "python",
   "pygments_lexer": "ipython3",
   "version": "3.6.9"
  }
 },
 "nbformat": 4,
 "nbformat_minor": 2
}
