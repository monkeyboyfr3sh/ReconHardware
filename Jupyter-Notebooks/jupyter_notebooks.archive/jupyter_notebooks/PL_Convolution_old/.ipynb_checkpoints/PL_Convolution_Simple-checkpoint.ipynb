{
 "cells": [
  {
   "cell_type": "code",
   "execution_count": 1,
   "metadata": {},
   "outputs": [
    {
     "data": {
      "application/javascript": [
       "\n",
       "try {\n",
       "require(['notebook/js/codecell'], function(codecell) {\n",
       "  codecell.CodeCell.options_default.highlight_modes[\n",
       "      'magic_text/x-csrc'] = {'reg':[/^%%microblaze/]};\n",
       "  Jupyter.notebook.events.one('kernel_ready.Kernel', function(){\n",
       "      Jupyter.notebook.get_cells().map(function(cell){\n",
       "          if (cell.cell_type == 'code'){ cell.auto_highlight(); } }) ;\n",
       "  });\n",
       "});\n",
       "} catch (e) {};\n"
      ]
     },
     "metadata": {},
     "output_type": "display_data"
    },
    {
     "data": {
      "application/javascript": [
       "\n",
       "try {\n",
       "require(['notebook/js/codecell'], function(codecell) {\n",
       "  codecell.CodeCell.options_default.highlight_modes[\n",
       "      'magic_text/x-csrc'] = {'reg':[/^%%pybind11/]};\n",
       "  Jupyter.notebook.events.one('kernel_ready.Kernel', function(){\n",
       "      Jupyter.notebook.get_cells().map(function(cell){\n",
       "          if (cell.cell_type == 'code'){ cell.auto_highlight(); } }) ;\n",
       "  });\n",
       "});\n",
       "} catch (e) {};\n"
      ]
     },
     "metadata": {},
     "output_type": "display_data"
    }
   ],
   "source": [
    "from PIL import Image\n",
    "from math import floor\n",
    "import numpy as np\n",
    "import matplotlib.pyplot as plt\n",
    "%matplotlib inline\n",
    "from pynq import allocate, Overlay\n",
    "from random import seed\n",
    "from random import randint"
   ]
  },
  {
   "cell_type": "code",
   "execution_count": 2,
   "metadata": {},
   "outputs": [],
   "source": [
    "Convolution_design = Overlay(\"PL_Convolution.bit\",)\n",
    "\n",
    "dma = Convolution_design.axi_dma_0\n",
    "controller = Convolution_design.Convolution_Controll_0\n",
    "\n",
    "filterBase = 20\n",
    "dataBase = 64"
   ]
  },
  {
   "cell_type": "code",
   "execution_count": 3,
   "metadata": {},
   "outputs": [],
   "source": [
    "def run_kernel():\n",
    "    dma.sendchannel.transfer(in_buffer)\n",
    "    dma.recvchannel.transfer(out_buffer)\n",
    "    dma.sendchannel.wait()\n",
    "    dma.recvchannel.wait()"
   ]
  },
  {
   "cell_type": "markdown",
   "metadata": {},
   "source": [
    "### Control Registers\n",
    "The convolution controller has several control registers. This is a breakdown of the internal offset to use and the corresponding purpose. All necessary control registers should be set prior to beginning data stream.\n",
    "\n",
    "| Register Offset (Hex) | Register Offset (Decimal) | Register Name | Description |\n",
    "| --------------------- | ------------------------- | ------------- | ----------- |\n",
    "|0x00| 0 | Image Width | This is the control register holding image width |\n",
    "|0x04| 4 | Image Height | This is the control register holding image height |\n",
    "|0x08| 8 | Control Enable | Set this high before starting data stream |\n",
    "|0x0c| 12 | State Machine Register | Bit 0 = RDst; Bit 1 = ADDst; Bit 2 = MULTIst |\n",
    "|0x10| 16 | Last calculated value | Holds the last value that was calculated |\n",
    "|0x14-0x34| 20-52 | Filter Set | Every 4 offset corresponds to one filter value |\n",
    "|0x38| 56 | Reset Queue | Write a high to this to reset controller. It should normally read low unless something is stopping the controller from self reseting |\n",
    "|0x3c| 60 | Convolution Count | Simply keeps track of the number of succesful convolutions since IP was loaded |\n",
    "|0x40-0x60| 64-96 | Data Set | Last known data set, every 4 offset corresponds to one data value|\n",
    "|0x64| 100 | rCount | Number of times the controller entered a read state |\n",
    "|0x68| 104 | mCount | Number of times the controller entered a multiply state |\n",
    "|0x6c| 108 | aCount | Number of times the controller entered a add state |\n",
    "|0x70| 112 | resetCount | Number of times the controller state machine has been reset |\n",
    "|0x74| 116 | current x | Current x position in total image map (x domain is 0 to Image Width-1) |\n",
    "|0x78| 120 | current y | Current y position in total image map (y domain is 0 to Image Height-1) |\n",
    "|0x7c| 124 | s_axis_ready |  |\n",
    "|0x80| 128 | m_axis_valid |  |\n",
    "|0x84| 132 | m_axis_ready |  |\n",
    "|0x88| 136 | m_axis_last |  |\n",
    "|0x8c| 140 | datapointer |  |"
   ]
  },
  {
   "cell_type": "code",
   "execution_count": 4,
   "metadata": {},
   "outputs": [],
   "source": [
    "def output_registers():\n",
    "    print(\"Image width:           %d\" % (controller.read(0)))#Width\n",
    "    print(\"Image height:          %d\" % (controller.read(4)))#Height\n",
    "    print(\"Current X position:    %d\" %(controller.read(116)))\n",
    "    print(\"Current Y position:    %d\" % (controller.read(120)))\n",
    "    print(\"Last calculated value: %d\" %(controller.read(16)))\n",
    "    \n",
    "    print(\"\\nFilter Set:\")\n",
    "    for i in range(9):\n",
    "        print(\"filterSet[%d] = %d\" % (i,controller.read((i*4)+filterBase)))\n",
    "    \n",
    "    print(\"\\nLast Known Data Set:\")\n",
    "    for i in range(9):\n",
    "        print(\"dataSet[%d] = %d\" % (i,controller.read((i*4)+dataBase)))\n",
    "    \n",
    "    print(\"\\nController start signal:           %d\" %(controller.read(8)))\n",
    "    print(\"Reset register:                    %d\" %(controller.read(56)))\n",
    "    print(\"State Machine Register:            %d\" % (controller.read(12)))\n",
    "    print(\"s_axis_ready status:               %d\" %(controller.read(124)))\n",
    "    print(\"m_axis_valid status:               %d\" %(controller.read(128)))\n",
    "    print(\"m_axis_ready status:               %d\" %(controller.read(132)))\n",
    "    print(\"m_axis_last status:                %d\" %(controller.read(136)))\n",
    "    print(\"data pointer:                      %d\" %(controller.read(140)))\n",
    "    print(\"Number of times in read state:     %d\" %(controller.read(100)))\n",
    "    print(\"Number of times in multiply state: %d\" %(controller.read(104)))\n",
    "    print(\"Number of times in add state:      %d\" %(controller.read(108)))\n",
    "    print(\"Completed convolution:             %d\" %(controller.read(60)))\n",
    "    print(\"State machine reset count:         %d\" %(controller.read(112)))"
   ]
  },
  {
   "cell_type": "code",
   "execution_count": 5,
   "metadata": {},
   "outputs": [],
   "source": [
    "def reset_ip():\n",
    "    times = 0\n",
    "    controller.write(56,1)\n",
    "    while(controller.read(56)==1):\n",
    "        if(times==0):\n",
    "            print(\"Waiting on reset queue.\")\n",
    "        times+=1\n",
    "    if(times==0):\n",
    "        print(\"Controller reset successful first try.\")\n",
    "    \n",
    "    else:\n",
    "        print(\"Controller reset successful after waiting %d times.\" % (times))"
   ]
  },
  {
   "cell_type": "markdown",
   "metadata": {},
   "source": [
    "## After this point is just testing stuff"
   ]
  },
  {
   "cell_type": "markdown",
   "metadata": {},
   "source": [
    "### Helping the controller out\n",
    "This is a very assisted way of feeding data to the controller. Data is fed in chunks of 3 for the most part"
   ]
  },
  {
   "cell_type": "code",
   "execution_count": 6,
   "metadata": {},
   "outputs": [],
   "source": [
    "def load_full(current_x,current_y):\n",
    "    dataSet = []\n",
    "    for i in range(3):\n",
    "        for j in range(3):\n",
    "#             full_buffer[i][j] = i*3+j\n",
    "            full_buffer[i][j] = randint(0,50)\n",
    "            dataSet.append(full_buffer[i][j])\n",
    "        \n",
    "    dma.sendchannel.transfer(full_buffer)\n",
    "    dma.sendchannel.wait()\n",
    "    \n",
    "    return dataSet\n",
    "\n",
    "def load_line(current_x,current_y):\n",
    "    dataSet = []\n",
    "    \n",
    "    for i in range(6):\n",
    "        dataSet.append(controller.read((i*4)+dataBase))\n",
    "    \n",
    "    for i in range(3):\n",
    "#         line_buffer[i-6][0] = i-6\n",
    "        line_buffer[i][0] = randint(0,50)\n",
    "        dataSet.append(line_buffer[i][0])\n",
    "    \n",
    "    dma.sendchannel.transfer(line_buffer)\n",
    "    dma.sendchannel.wait()\n",
    "    \n",
    "    return dataSet"
   ]
  },
  {
   "cell_type": "code",
   "execution_count": 15,
   "metadata": {},
   "outputs": [],
   "source": [
    "Convolution_design = Overlay(\"PL_Convolution.bit\")\n",
    "\n",
    "dma = Convolution_design.axi_dma_0\n",
    "controller = Convolution_design.Convolution_Controll_0\n",
    "\n",
    "seed(12256163123)"
   ]
  },
  {
   "cell_type": "code",
   "execution_count": 16,
   "metadata": {},
   "outputs": [
    {
     "name": "stdout",
     "output_type": "stream",
     "text": [
      "filterSet = [ 50, 8, 49, 31, 23, 6, 2, 43, 50, ]\n"
     ]
    }
   ],
   "source": [
    "width = 3\n",
    "height = 3\n",
    "\n",
    "full_buffer = allocate(shape=(3, 3, 1),dtype=np.uint32, cacheable=1)\n",
    "line_buffer = allocate(shape=(3, 1, 1),dtype=np.uint32, cacheable=1)\n",
    "out_buffer = allocate(shape=(height-2, width-2, 1),dtype=np.uint32, cacheable=1)\n",
    "\n",
    "filterSet = []\n",
    "for i in range(9):\n",
    "    filterSet.append(randint(0,50))\n",
    "\n",
    "print(\"filterSet = [ \",end='')\n",
    "for i in range(9):\n",
    "    print(\"%d\" % (filterSet[i]),end=', ')\n",
    "print(\"]\")"
   ]
  },
  {
   "cell_type": "code",
   "execution_count": 17,
   "metadata": {},
   "outputs": [],
   "source": [
    "#Enable IP control register\n",
    "controller.write(8,1)\n",
    "\n",
    "#Input Filter set\n",
    "for i in range(9):\n",
    "    controller.write((i*4)+filterBase,filterSet[i])\n",
    "\n",
    "#Input width/height\n",
    "controller.write(0,width)#Width\n",
    "controller.write(4,height)#Height"
   ]
  },
  {
   "cell_type": "code",
   "execution_count": 18,
   "metadata": {
    "scrolled": true
   },
   "outputs": [
    {
     "name": "stdout",
     "output_type": "stream",
     "text": [
      "Starting Test Convolution!\n",
      "==========================\n",
      "Test Width:  3\n",
      "Test Height: 3\n",
      "\n",
      "######### Start of test 1 #########\n",
      "              |1| 24    |4| 32    |7| 32\n",
      "              |2| 43    |5| 28    |8| 49\n",
      "Loaded Full:  |3|  7    |6|  2    |9|  5\n",
      "\n",
      "filterSet              = [ 50, 8, 49, 31, 23, 6, 2, 43, 50, ]\n",
      "dataSet used           = [ 24, 43, 7, 32, 28, 2, 32, 49, 5, ]\n",
      "Expected Value         = 5956\n",
      "Calculated Value       = 5956\n",
      "Expected PL dataSet    = [ 32, 28, 2, 32, 49, 5, 32, 49, 5, ]\n",
      "PL dataSet             = [ 0, 0, 0, 0, 0, 0, 0, 0, 0, ]\n",
      "Test Result:           PASS\n",
      "\n"
     ]
    },
    {
     "ename": "KeyboardInterrupt",
     "evalue": "",
     "output_type": "error",
     "traceback": [
      "\u001b[0;31m---------------------------------------------------------------------------\u001b[0m",
      "\u001b[0;31mKeyboardInterrupt\u001b[0m                         Traceback (most recent call last)",
      "\u001b[0;32m<ipython-input-18-0d58359aa7f9>\u001b[0m in \u001b[0;36m<module>\u001b[0;34m()\u001b[0m\n\u001b[1;32m     68\u001b[0m         \u001b[0mfailCnt\u001b[0m\u001b[0;34m+=\u001b[0m\u001b[0;36m1\u001b[0m\u001b[0;34m\u001b[0m\u001b[0m\n\u001b[1;32m     69\u001b[0m         \u001b[0mprint\u001b[0m\u001b[0;34m(\u001b[0m\u001b[0;34m\"Test Result:           FAIL\\n\"\u001b[0m\u001b[0;34m)\u001b[0m\u001b[0;34m\u001b[0m\u001b[0m\n\u001b[0;32m---> 70\u001b[0;31m \u001b[0mdma\u001b[0m\u001b[0;34m.\u001b[0m\u001b[0mrecvchannel\u001b[0m\u001b[0;34m.\u001b[0m\u001b[0mwait\u001b[0m\u001b[0;34m(\u001b[0m\u001b[0;34m)\u001b[0m\u001b[0;34m\u001b[0m\u001b[0m\n\u001b[0m\u001b[1;32m     71\u001b[0m \u001b[0;34m\u001b[0m\u001b[0m\n\u001b[1;32m     72\u001b[0m \u001b[0mprint\u001b[0m\u001b[0;34m(\u001b[0m\u001b[0;34m\"=============================\\nTest Complete!\\n\"\u001b[0m\u001b[0;34m)\u001b[0m\u001b[0;34m\u001b[0m\u001b[0m\n",
      "\u001b[0;32m/usr/local/lib/python3.6/dist-packages/pynq/lib/dma.py\u001b[0m in \u001b[0;36mwait\u001b[0;34m(self)\u001b[0m\n\u001b[1;32m    216\u001b[0m                     raise RuntimeError(\n\u001b[1;32m    217\u001b[0m                         'DMA Decode Error (invalid address)')\n\u001b[0;32m--> 218\u001b[0;31m             \u001b[0;32mif\u001b[0m \u001b[0mself\u001b[0m\u001b[0;34m.\u001b[0m\u001b[0midle\u001b[0m\u001b[0;34m:\u001b[0m\u001b[0;34m\u001b[0m\u001b[0m\n\u001b[0m\u001b[1;32m    219\u001b[0m                 \u001b[0;32mbreak\u001b[0m\u001b[0;34m\u001b[0m\u001b[0m\n\u001b[1;32m    220\u001b[0m         \u001b[0;32mif\u001b[0m \u001b[0;32mnot\u001b[0m \u001b[0mself\u001b[0m\u001b[0;34m.\u001b[0m\u001b[0m_flush_before\u001b[0m\u001b[0;34m:\u001b[0m\u001b[0;34m\u001b[0m\u001b[0m\n",
      "\u001b[0;32m/usr/local/lib/python3.6/dist-packages/pynq/lib/dma.py\u001b[0m in \u001b[0;36midle\u001b[0;34m(self)\u001b[0m\n\u001b[1;32m    109\u001b[0m \u001b[0;34m\u001b[0m\u001b[0m\n\u001b[1;32m    110\u001b[0m         \"\"\"\n\u001b[0;32m--> 111\u001b[0;31m         \u001b[0;32mreturn\u001b[0m \u001b[0mself\u001b[0m\u001b[0;34m.\u001b[0m\u001b[0m_mmio\u001b[0m\u001b[0;34m.\u001b[0m\u001b[0mread\u001b[0m\u001b[0;34m(\u001b[0m\u001b[0mself\u001b[0m\u001b[0;34m.\u001b[0m\u001b[0m_offset\u001b[0m \u001b[0;34m+\u001b[0m \u001b[0;36m4\u001b[0m\u001b[0;34m)\u001b[0m \u001b[0;34m&\u001b[0m \u001b[0;36m0x02\u001b[0m \u001b[0;34m==\u001b[0m \u001b[0;36m0x02\u001b[0m\u001b[0;34m\u001b[0m\u001b[0m\n\u001b[0m\u001b[1;32m    112\u001b[0m \u001b[0;34m\u001b[0m\u001b[0m\n\u001b[1;32m    113\u001b[0m     \u001b[0;34m@\u001b[0m\u001b[0mproperty\u001b[0m\u001b[0;34m\u001b[0m\u001b[0m\n",
      "\u001b[0;31mKeyboardInterrupt\u001b[0m: "
     ]
    }
   ],
   "source": [
    "start_reset = controller.read(112)\n",
    "dma.recvchannel.transfer(out_buffer)\n",
    "print(\"Starting Test Convolution!\")\n",
    "print(\"==========================\")\n",
    "print(\"Test Width:  %d\"%(controller.read(0)))\n",
    "print(\"Test Height: %d\"%(controller.read(4)))\n",
    "print()\n",
    "\n",
    "dataSet = []\n",
    "testCnt = 0\n",
    "failCnt = 0\n",
    "passCnt = 0\n",
    "while(start_reset == controller.read(112)):    \n",
    "    testCnt+=1\n",
    "    print(\"######### Start of test %d #########\"%(testCnt))\n",
    "    \n",
    "    curr_x = controller.read(116)\n",
    "    curr_y = controller.read(120)\n",
    "    \n",
    "    if( curr_x == 0 ):#Beginning of row means to load a whole kernel\n",
    "        dataSet = load_full(curr_x,curr_y)\n",
    "        print(\"              |1|%3d    |4|%3d    |7|%3d\" % (dataSet[0],dataSet[3],dataSet[6]))\n",
    "        print(\"              |2|%3d    |5|%3d    |8|%3d\" % (dataSet[1],dataSet[4],dataSet[7]))\n",
    "        print(\"Loaded Full:  |3|%3d    |6|%3d    |9|%3d\" % (dataSet[2],dataSet[5],dataSet[8]))\n",
    "        \n",
    "    else:#Somewhere in the middle of row\n",
    "        dataSet = load_line(curr_x,curr_y)\n",
    "        print(\"              |7|%3d\" % (dataSet[6]))\n",
    "        print(\"              |8|%3d\" % (dataSet[7]))\n",
    "        print(\"Loading Line: |9|%3d\" % (dataSet[8]))\n",
    "    \n",
    "    #Print the filter set\n",
    "    print(\"\\nfilterSet              = [ \",end='')\n",
    "    for i in range(9):\n",
    "        print(\"%d\" % (filterSet[i]),end=', ')\n",
    "    print(\"]\")\n",
    "    \n",
    "    #Calculate the expected value\n",
    "    expected_value = 0\n",
    "    print(\"dataSet used           = [ \",end='')\n",
    "    for i in range(9):\n",
    "        print(\"%d\" % (dataSet[i]),end=', ')\n",
    "        expected_value+=dataSet[i]*filterSet[i]\n",
    "    print(\"]\")\n",
    "        \n",
    "    #Retrieve PL calculated value from controller\n",
    "    calculated_value = controller.read(16)\n",
    "    \n",
    "    print(\"Expected Value         = %d\" % (expected_value))\n",
    "    print(\"Calculated Value       = %d\" % (calculated_value))\n",
    "    \n",
    "    print(\"Expected PL dataSet    = [ \",end='')\n",
    "    for i in range(3,9):\n",
    "        print(\"%d\" % (dataSet[i]),end=', ')\n",
    "    for i in range(6,9):\n",
    "        print(\"%d\" % (dataSet[i]),end=', ')\n",
    "    print(\"]\")\n",
    "    \n",
    "    print(\"PL dataSet             = [ \",end = '')\n",
    "    for i in range(9):\n",
    "        print(\"%d\" % (controller.read((i*4)+dataBase)),end=', ')\n",
    "    print(\"]\")\n",
    "    \n",
    "    if(expected_value == calculated_value):\n",
    "        passCnt+=1\n",
    "        print(\"Test Result:           PASS\\n\")\n",
    "    else:\n",
    "        failCnt+=1\n",
    "        print(\"Test Result:           FAIL\\n\")\n",
    "dma.recvchannel.wait()\n",
    "\n",
    "print(\"=============================\\nTest Complete!\\n\")\n",
    "if(failCnt == 0):\n",
    "    print(\"All %d tests pass!\" % (testCnt))\n",
    "else:\n",
    "    print(\"%d out of %d tests FAILED\" % (failCnt,testCnt))\n",
    "\n",
    "print(\"=============================\\n\")\n",
    "    \n",
    "print(\"\\nControl Registers:\")\n",
    "print(\"==================\")\n",
    "output_registers()"
   ]
  },
  {
   "cell_type": "code",
   "execution_count": null,
   "metadata": {},
   "outputs": [],
   "source": [
    "filterSet = [ 0,1,2,3,4,5,6,7,8 ]\n",
    "dataSet = [ 1,6,11,2,7,12,3,8,13 ]\n",
    "cSum = 0\n",
    "\n",
    "for i in range(9):\n",
    "    if (i%3==0):\n",
    "        print()\n",
    "        \n",
    "    print(\"%s x %s = %s = %d\" % (hex(dataSet[i]),hex(filterSet[i]),hex(dataSet[i]*filterSet[i]),dataSet[i]*filterSet[i]))\n",
    "    cSum+=dataSet[i]*filterSet[i]\n",
    "\n",
    "print(\"\\ncSum in hex:     %s\" % (hex(cSum)))\n",
    "print(\"cSum in decimal: %d\" % (cSum))"
   ]
  },
  {
   "cell_type": "code",
   "execution_count": 19,
   "metadata": {},
   "outputs": [
    {
     "name": "stdout",
     "output_type": "stream",
     "text": [
      "Image width:           3\n",
      "Image height:          3\n",
      "Current X position:    0\n",
      "Current Y position:    0\n",
      "Last calculated value: 5956\n",
      "\n",
      "Filter Set:\n",
      "filterSet[0] = 50\n",
      "filterSet[1] = 8\n",
      "filterSet[2] = 49\n",
      "filterSet[3] = 31\n",
      "filterSet[4] = 23\n",
      "filterSet[5] = 6\n",
      "filterSet[6] = 2\n",
      "filterSet[7] = 43\n",
      "filterSet[8] = 50\n",
      "\n",
      "Last Known Data Set:\n",
      "dataSet[0] = 0\n",
      "dataSet[1] = 0\n",
      "dataSet[2] = 0\n",
      "dataSet[3] = 0\n",
      "dataSet[4] = 0\n",
      "dataSet[5] = 0\n",
      "dataSet[6] = 0\n",
      "dataSet[7] = 0\n",
      "dataSet[8] = 0\n",
      "\n",
      "Controller start signal:           1\n",
      "Reset register:                    0\n",
      "State Machine Register:            0\n",
      "s_axis_ready status:               1\n",
      "m_axis_valid status:               0\n",
      "m_axis_ready status:               1\n",
      "m_axis_last status:                0\n",
      "data pointer:                      0\n",
      "Number of times in read state:     9\n",
      "Number of times in multiply state: 4\n",
      "Number of times in add state:      5\n",
      "Completed convolution:             1\n",
      "State machine reset count:         1\n"
     ]
    }
   ],
   "source": [
    "output_registers()"
   ]
  },
  {
   "cell_type": "markdown",
   "metadata": {},
   "source": [
    "### A little closer\n",
    "In this case, a buffer of data is prepared but it is limited in width to one one kernel size. This is a restriction due to the current operation of the DMA."
   ]
  },
  {
   "cell_type": "code",
   "execution_count": null,
   "metadata": {},
   "outputs": [],
   "source": [
    "Convolution_design = Overlay(\"PL_Convolution.bit\")\n",
    "\n",
    "dma = Convolution_design.axi_dma_0\n",
    "controller = Convolution_design.Convolution_Controll_0\n",
    "\n",
    "seed(2)"
   ]
  },
  {
   "cell_type": "code",
   "execution_count": null,
   "metadata": {},
   "outputs": [],
   "source": [
    "width = 3\n",
    "height = 1920\n",
    "\n",
    "in_buffer = allocate(shape=(height, width, 1),dtype=np.uint32, cacheable=1)\n",
    "out_buffer = allocate(shape=(int(height/3), 1, 1),dtype=np.uint32, cacheable=1)\n",
    "\n",
    "for i in range(width):\n",
    "    for j in range(height):\n",
    "        in_buffer[j][i] = i*width+j"
   ]
  },
  {
   "cell_type": "code",
   "execution_count": null,
   "metadata": {},
   "outputs": [],
   "source": [
    "#Enable IP control register\n",
    "controller.write(8,1)\n",
    "\n",
    "#Input Filter set\n",
    "controller.write(20,0)\n",
    "controller.write(24,1)\n",
    "controller.write(28,2)\n",
    "controller.write(32,3)\n",
    "controller.write(36,4)\n",
    "controller.write(40,5)\n",
    "controller.write(44,6)\n",
    "controller.write(48,7)\n",
    "controller.write(52,8)\n",
    "\n",
    "#Input width/height\n",
    "controller.write(0,width)#Width\n",
    "controller.write(4,int(height/3))#Height"
   ]
  },
  {
   "cell_type": "code",
   "execution_count": null,
   "metadata": {},
   "outputs": [],
   "source": [
    "output_registers()"
   ]
  },
  {
   "cell_type": "code",
   "execution_count": null,
   "metadata": {
    "scrolled": true
   },
   "outputs": [],
   "source": [
    "dma.sendchannel.transfer(in_buffer)\n",
    "dma.recvchannel.transfer(out_buffer)\n",
    "dma.sendchannel.wait()\n",
    "dma.recvchannel.wait()"
   ]
  },
  {
   "cell_type": "code",
   "execution_count": null,
   "metadata": {},
   "outputs": [],
   "source": [
    "output_registers()"
   ]
  },
  {
   "cell_type": "code",
   "execution_count": null,
   "metadata": {},
   "outputs": [],
   "source": [
    "out_buffer"
   ]
  },
  {
   "cell_type": "code",
   "execution_count": null,
   "metadata": {},
   "outputs": [],
   "source": []
  }
 ],
 "metadata": {
  "kernelspec": {
   "display_name": "Python 3",
   "language": "python",
   "name": "python3"
  },
  "language_info": {
   "codemirror_mode": {
    "name": "ipython",
    "version": 3
   },
   "file_extension": ".py",
   "mimetype": "text/x-python",
   "name": "python",
   "nbconvert_exporter": "python",
   "pygments_lexer": "ipython3",
   "version": "3.6.5"
  }
 },
 "nbformat": 4,
 "nbformat_minor": 2
}
