{
 "cells": [
  {
   "cell_type": "code",
   "execution_count": 46,
   "metadata": {},
   "outputs": [],
   "source": [
    "from pynq import allocate, Overlay\n",
    "import os"
   ]
  },
  {
   "cell_type": "code",
   "execution_count": 51,
   "metadata": {},
   "outputs": [
    {
     "name": "stdout",
     "output_type": "stream",
     "text": [
      "left partial size: 146648 bytes\n",
      "left partial size: 146648 bytes\n"
     ]
    }
   ],
   "source": [
    "base = Overlay(\"full_left.bit\",)\n",
    "\n",
    "dfx_controller = base.dfx_controller_0 \n",
    "\n",
    "l_part_size_byte = os.path.getsize('partial_left.bit')\n",
    "print(\"left partial size:\",l_part_size_byte,\"bytes\")\n",
    "\n",
    "r_part_size_byte = os.path.getsize('partial_left.bit')\n",
    "print(\"left partial size:\",r_part_size_byte,\"bytes\")"
   ]
  },
  {
   "cell_type": "code",
   "execution_count": null,
   "metadata": {},
   "outputs": [],
   "source": [
    "# Address Map\n",
    "=============================\n",
    "| Virtual Socket Manager | Register     | Address |\n",
    "+------------------------+--------------+---------+\n",
    "| shifter                | STATUS       | 0X00000 | \n",
    "| shifter                | CONTROL      | 0X00000 |\n",
    "| shifter                | SW_TRIGGER   | 0X00004 |\n",
    "| shifter                | TRIGGER0     | 0X00020 |\n",
    "| shifter                | TRIGGER1     | 0X00024 |\n",
    "| shifter                | RM_BS_INDEX0 | 0X00040 |\n",
    "| shifter                | RM_CONTROL0  | 0X00044 |\n",
    "| shifter                | RM_BS_INDEX1 | 0X00048 |\n",
    "| shifter                | RM_CONTROL1  | 0X0004C |\n",
    "| shifter                | BS_ID0       | 0X00060 |\n",
    "| shifter                | BS_ADDRESS0  | 0X00064 | <-- Bitstream 0 Memory Address Register \n",
    "| shifter                | BS_SIZE0     | 0X00068 | <-- Bitstream 0 Size in bytes (See PG374)\n",
    "| shifter                | BS_ID1       | 0X00070 |\n",
    "| shifter                | BS_ADDRESS1  | 0X00074 | <-- Bitstream 0 Memory Address Register\n",
    "| shifter                | BS_SIZE1     | 0X00078 | <-- Bitstream 1 Size in bytes (See PG374)"
   ]
  },
  {
   "cell_type": "code",
   "execution_count": null,
   "metadata": {},
   "outputs": [],
   "source": [
    "# Left partial bitstream size\n",
    "dfx_controller.write(0X00068,l_part_size_byte)\n",
    "# Right partial bitstream size\n",
    "dfx_controller.write(0X00068,r_part_size_byte)\n",
    "\n",
    "left_bit = Overlat(\"partial_left.bit\")\n",
    "left_bit = Overlat(\"partial_right.bit\")"
   ]
  },
  {
   "cell_type": "code",
   "execution_count": null,
   "metadata": {},
   "outputs": [],
   "source": []
  }
 ],
 "metadata": {
  "kernelspec": {
   "display_name": "Python 3",
   "language": "python",
   "name": "python3"
  },
  "language_info": {
   "codemirror_mode": {
    "name": "ipython",
    "version": 3
   },
   "file_extension": ".py",
   "mimetype": "text/x-python",
   "name": "python",
   "nbconvert_exporter": "python",
   "pygments_lexer": "ipython3",
   "version": "3.6.5"
  }
 },
 "nbformat": 4,
 "nbformat_minor": 2
}
