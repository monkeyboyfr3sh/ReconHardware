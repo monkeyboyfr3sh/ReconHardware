{
 "cells": [
  {
   "cell_type": "code",
   "execution_count": 1,
   "metadata": {},
   "outputs": [
    {
     "data": {
      "application/javascript": [
       "\n",
       "try {\n",
       "require(['notebook/js/codecell'], function(codecell) {\n",
       "  codecell.CodeCell.options_default.highlight_modes[\n",
       "      'magic_text/x-csrc'] = {'reg':[/^%%microblaze/]};\n",
       "  Jupyter.notebook.events.one('kernel_ready.Kernel', function(){\n",
       "      Jupyter.notebook.get_cells().map(function(cell){\n",
       "          if (cell.cell_type == 'code'){ cell.auto_highlight(); } }) ;\n",
       "  });\n",
       "});\n",
       "} catch (e) {};\n"
      ]
     },
     "metadata": {},
     "output_type": "display_data"
    },
    {
     "data": {
      "application/javascript": [
       "\n",
       "try {\n",
       "require(['notebook/js/codecell'], function(codecell) {\n",
       "  codecell.CodeCell.options_default.highlight_modes[\n",
       "      'magic_text/x-csrc'] = {'reg':[/^%%pybind11/]};\n",
       "  Jupyter.notebook.events.one('kernel_ready.Kernel', function(){\n",
       "      Jupyter.notebook.get_cells().map(function(cell){\n",
       "          if (cell.cell_type == 'code'){ cell.auto_highlight(); } }) ;\n",
       "  });\n",
       "});\n",
       "} catch (e) {};\n"
      ]
     },
     "metadata": {},
     "output_type": "display_data"
    }
   ],
   "source": [
    "from PIL import Image, ImageDraw\n",
    "from math import floor\n",
    "import numpy as np\n",
    "import matplotlib.pyplot as plt\n",
    "%matplotlib inline\n",
    "from pynq import allocate, Overlay\n",
    "from random import seed\n",
    "from random import randint\n",
    "from random import getrandbits\n",
    "import glob\n",
    "import cv2\n",
    "import time\n",
    "import os"
   ]
  },
  {
   "cell_type": "code",
   "execution_count": 2,
   "metadata": {},
   "outputs": [],
   "source": [
    "def run_kernel_HW(original_image,in_buffer,out_buffers):\n",
    "    # Transfer color channel 0\n",
    "    in_buffer[:] = np.array(original_image)[:,:,[0]]\n",
    "    dma.sendchannel.transfer(in_buffer)\n",
    "    dma.recvchannel.transfer(out_buffers[0])\n",
    "    dma.sendchannel.wait()\n",
    "    dma.recvchannel.wait()\n",
    "    # Transfer color channel 1\n",
    "    in_buffer[:] = np.array(original_image)[:,:,[1]]\n",
    "    dma.sendchannel.transfer(in_buffer)\n",
    "    dma.recvchannel.transfer(out_buffers[1])\n",
    "    dma.sendchannel.wait()\n",
    "    dma.recvchannel.wait()\n",
    "    # Transfer color channel 2\n",
    "    in_buffer[:] = np.array(original_image)[:,:,[2]]\n",
    "    dma.sendchannel.transfer(in_buffer)\n",
    "    dma.recvchannel.transfer(out_buffers[2])\n",
    "    dma.sendchannel.wait()\n",
    "    dma.recvchannel.wait()"
   ]
  },
  {
   "cell_type": "code",
   "execution_count": 3,
   "metadata": {},
   "outputs": [],
   "source": [
    "def process_dir(bit_precision,image_list):\n",
    "    elapse = np.empty(len(image_list))\n",
    "    for i in range(len(image_list)):\n",
    "        print(\"#\",end='')\n",
    "        \n",
    "        original_image = image_list[i]\n",
    "        width,height = original_image.size\n",
    "        controller.write(0,1)\n",
    "        controller.write(16,width)\n",
    "        controller.write(20,height)\n",
    "        \n",
    "        if(bit_precision==0):\n",
    "            in_buffer = allocate(shape=(height, width, 1),dtype=np.uint8, cacheable=1)\n",
    "        elif(bit_precision==1):\n",
    "            in_buffer = allocate(shape=(height, width, 1),dtype=np.uint16, cacheable=1)\n",
    "        elif(bit_precision==2):\n",
    "            in_buffer = allocate(shape=(height, width, 1),dtype=np.uint32, cacheable=1)\n",
    "        out_buffer = allocate(shape=(height-2, width-2, 3),dtype=np.uint8, cacheable=1)\n",
    "        \n",
    "        out_buffers = []\n",
    "        \n",
    "        out_buffer0 = allocate(shape=(height-2, width-2, 1),dtype=np.uint32, cacheable=1)\n",
    "        out_buffers.append(out_buffer0)\n",
    "        out_buffer1 = allocate(shape=(height-2, width-2, 1),dtype=np.uint32, cacheable=1)\n",
    "        out_buffers.append(out_buffer1)\n",
    "        out_buffer2 = allocate(shape=(height-2, width-2, 1),dtype=np.uint32, cacheable=1)\n",
    "        out_buffers.append(out_buffer2)\n",
    "        \n",
    "        start = time.time()\n",
    "        run_kernel_HW(original_image,in_buffer,out_buffers)\n",
    "        stop = time.time()\n",
    "        \n",
    "        # Clipping values to be in correct bit range for RGB png\n",
    "        min = 0\n",
    "        max = 255\n",
    "        out_buffer[:,:,[0]] = np.clip(out_buffer0, 0, max)\n",
    "        out_buffer[:,:,[1]]  = np.clip(out_buffer1, 0, max)\n",
    "        out_buffer[:,:,[2]]= np.clip(out_buffer2, 0, max)\n",
    "        convolution_image = Image.fromarray(out_buffer)\n",
    "        convolution_image.save(\"Output/Benchmark/convolution_bp\"+str(bit_precision)+\"_t\"+str(i)+\"_output.png\", \"PNG\")\n",
    "        elapse[i] = (stop-start)\n",
    "        \n",
    "        in_buffer.freebuffer()\n",
    "        out_buffer.freebuffer()\n",
    "        out_buffer0.freebuffer()\n",
    "        out_buffer1.freebuffer()\n",
    "        out_buffer2.freebuffer()\n",
    "    print()\n",
    "    return elapse"
   ]
  },
  {
   "cell_type": "code",
   "execution_count": 4,
   "metadata": {},
   "outputs": [],
   "source": [
    "def evaluate(im_dir,elapse):\n",
    "    total = 0 \n",
    "    for i in range(len(elapse)):\n",
    "        total = total + elapse[i]\n",
    "    avg = total/len(elapse)\n",
    "    print(\"\\nStats for processing images in\",im_dir)\n",
    "    print(\"-------------------------------------------------\")\n",
    "    print(\"Number of photos processed:\",len(elapse))\n",
    "    print(\"Total hardware processing runtime is:\",round(total,3),\"seconds\")\n",
    "    print(\"Average hardware runtime per image is:\",round(avg*1000,3),\"millis-seconds\")"
   ]
  },
  {
   "cell_type": "code",
   "execution_count": 5,
   "metadata": {},
   "outputs": [],
   "source": [
    "filterBase = 24\n",
    "dataBase = 60\n",
    "def output_registers():\n",
    "    print(\"Control Enable:         %d\" % (controller.read(0)))\n",
    "    print(\"Reset:                  %d\" % (controller.read(4)))\n",
    "    print(\"State Machine Register: %d\" % (controller.read(8)))\n",
    "    print(\"Last Calculated Value:  %d\" % (controller.read(12)))\n",
    "    print(\"Image Width:            %d\" % (controller.read(16)))\n",
    "    print(\"Image Height:           %d\" % (controller.read(20)))\n",
    "    print(\"\\nFilter Set:\")\n",
    "    for i in range(9):\n",
    "        print(\"filterSet[%d] = %d\" % (i,controller.read((i*4)+filterBase)))\n",
    "    print(\"\\nData Set:\")\n",
    "    for i in range(9):\n",
    "        print(\"dataSet[%d] = %d\" % (i,controller.read((i*4)+dataBase)))\n",
    "    print(\"\\n\")"
   ]
  },
  {
   "cell_type": "code",
   "execution_count": null,
   "metadata": {},
   "outputs": [],
   "source": []
  },
  {
   "cell_type": "code",
   "execution_count": 6,
   "metadata": {},
   "outputs": [],
   "source": [
    "image_directories = [dI for dI in os.listdir('Images') if (os.path.isdir(os.path.join('Images',dI)) and (dI[0]!='.'))]\n",
    "widths = []\n",
    "widths.append('480')\n",
    "widths.append('1080')\n",
    "widths.append('240')\n",
    "widths.append('720')\n",
    "widths.append('120')"
   ]
  },
  {
   "cell_type": "code",
   "execution_count": 7,
   "metadata": {},
   "outputs": [
    {
     "data": {
      "text/plain": [
       "['w480', 'w1080', 'w240', 'w720', 'w120']"
      ]
     },
     "execution_count": 7,
     "metadata": {},
     "output_type": "execute_result"
    }
   ],
   "source": [
    "image_directories"
   ]
  },
  {
   "cell_type": "code",
   "execution_count": 9,
   "metadata": {},
   "outputs": [],
   "source": [
    "kernelsize = 3\n",
    "# High-pass kernel\n",
    "kernel = [[ 0, 0, 0 ],\n",
    "          [ 0, 1, 0 ],\n",
    "          [ 0, 0, 0 ]]"
   ]
  },
  {
   "cell_type": "code",
   "execution_count": 11,
   "metadata": {
    "scrolled": false
   },
   "outputs": [
    {
     "name": "stdout",
     "output_type": "stream",
     "text": [
      "Processing images at 16 bit precision\n",
      "###############\n",
      "# Now processing images in 'Images/w3840/' with a width of 480\n",
      "#"
     ]
    },
    {
     "ename": "RuntimeError",
     "evalue": "Failed to allocate Memory!",
     "output_type": "error",
     "traceback": [
      "\u001b[0;31m---------------------------------------------------------------------------\u001b[0m",
      "\u001b[0;31mRuntimeError\u001b[0m                              Traceback (most recent call last)",
      "\u001b[0;32m<ipython-input-11-b478b9c6e52b>\u001b[0m in \u001b[0;36m<module>\u001b[0;34m()\u001b[0m\n\u001b[1;32m     40\u001b[0m         \u001b[0;31m# Pre-load image directory\u001b[0m\u001b[0;34m\u001b[0m\u001b[0;34m\u001b[0m\u001b[0m\n\u001b[1;32m     41\u001b[0m         \u001b[0mprint\u001b[0m\u001b[0;34m(\u001b[0m\u001b[0;34m\"\\n# Now processing images in \\'\"\u001b[0m\u001b[0;34m+\u001b[0m\u001b[0mim_dir\u001b[0m\u001b[0;34m+\u001b[0m\u001b[0;34m\"\\' with a width of\"\u001b[0m\u001b[0;34m,\u001b[0m\u001b[0mwidths\u001b[0m\u001b[0;34m[\u001b[0m\u001b[0mi\u001b[0m\u001b[0;34m]\u001b[0m\u001b[0;34m)\u001b[0m\u001b[0;34m\u001b[0m\u001b[0m\n\u001b[0;32m---> 42\u001b[0;31m         \u001b[0melapse\u001b[0m \u001b[0;34m=\u001b[0m \u001b[0mprocess_dir\u001b[0m\u001b[0;34m(\u001b[0m\u001b[0mbit_precision\u001b[0m\u001b[0;34m,\u001b[0m\u001b[0mimage_list\u001b[0m\u001b[0;34m)\u001b[0m\u001b[0;34m\u001b[0m\u001b[0m\n\u001b[0m\u001b[1;32m     43\u001b[0m         \u001b[0mevaluate\u001b[0m\u001b[0;34m(\u001b[0m\u001b[0mim_dir\u001b[0m\u001b[0;34m,\u001b[0m\u001b[0melapse\u001b[0m\u001b[0;34m)\u001b[0m\u001b[0;34m\u001b[0m\u001b[0m\n\u001b[1;32m     44\u001b[0m         \u001b[0;32mif\u001b[0m\u001b[0;34m(\u001b[0m\u001b[0mi\u001b[0m\u001b[0;34m!=\u001b[0m\u001b[0mlen\u001b[0m\u001b[0;34m(\u001b[0m\u001b[0mimage_directories\u001b[0m\u001b[0;34m)\u001b[0m\u001b[0;34m-\u001b[0m\u001b[0;36m1\u001b[0m\u001b[0;34m)\u001b[0m\u001b[0;34m:\u001b[0m \u001b[0mprint\u001b[0m\u001b[0;34m(\u001b[0m\u001b[0;34m\"\\n\\n\\n\"\u001b[0m\u001b[0;34m)\u001b[0m\u001b[0;34m\u001b[0m\u001b[0m\n",
      "\u001b[0;32m<ipython-input-3-73f6994b428d>\u001b[0m in \u001b[0;36mprocess_dir\u001b[0;34m(bit_precision, image_list)\u001b[0m\n\u001b[1;32m     22\u001b[0m         \u001b[0mout_buffer0\u001b[0m \u001b[0;34m=\u001b[0m \u001b[0mallocate\u001b[0m\u001b[0;34m(\u001b[0m\u001b[0mshape\u001b[0m\u001b[0;34m=\u001b[0m\u001b[0;34m(\u001b[0m\u001b[0mheight\u001b[0m\u001b[0;34m-\u001b[0m\u001b[0;36m2\u001b[0m\u001b[0;34m,\u001b[0m \u001b[0mwidth\u001b[0m\u001b[0;34m-\u001b[0m\u001b[0;36m2\u001b[0m\u001b[0;34m,\u001b[0m \u001b[0;36m1\u001b[0m\u001b[0;34m)\u001b[0m\u001b[0;34m,\u001b[0m\u001b[0mdtype\u001b[0m\u001b[0;34m=\u001b[0m\u001b[0mnp\u001b[0m\u001b[0;34m.\u001b[0m\u001b[0muint32\u001b[0m\u001b[0;34m,\u001b[0m \u001b[0mcacheable\u001b[0m\u001b[0;34m=\u001b[0m\u001b[0;36m1\u001b[0m\u001b[0;34m)\u001b[0m\u001b[0;34m\u001b[0m\u001b[0m\n\u001b[1;32m     23\u001b[0m         \u001b[0mout_buffers\u001b[0m\u001b[0;34m.\u001b[0m\u001b[0mappend\u001b[0m\u001b[0;34m(\u001b[0m\u001b[0mout_buffer0\u001b[0m\u001b[0;34m)\u001b[0m\u001b[0;34m\u001b[0m\u001b[0m\n\u001b[0;32m---> 24\u001b[0;31m         \u001b[0mout_buffer1\u001b[0m \u001b[0;34m=\u001b[0m \u001b[0mallocate\u001b[0m\u001b[0;34m(\u001b[0m\u001b[0mshape\u001b[0m\u001b[0;34m=\u001b[0m\u001b[0;34m(\u001b[0m\u001b[0mheight\u001b[0m\u001b[0;34m-\u001b[0m\u001b[0;36m2\u001b[0m\u001b[0;34m,\u001b[0m \u001b[0mwidth\u001b[0m\u001b[0;34m-\u001b[0m\u001b[0;36m2\u001b[0m\u001b[0;34m,\u001b[0m \u001b[0;36m1\u001b[0m\u001b[0;34m)\u001b[0m\u001b[0;34m,\u001b[0m\u001b[0mdtype\u001b[0m\u001b[0;34m=\u001b[0m\u001b[0mnp\u001b[0m\u001b[0;34m.\u001b[0m\u001b[0muint32\u001b[0m\u001b[0;34m,\u001b[0m \u001b[0mcacheable\u001b[0m\u001b[0;34m=\u001b[0m\u001b[0;36m1\u001b[0m\u001b[0;34m)\u001b[0m\u001b[0;34m\u001b[0m\u001b[0m\n\u001b[0m\u001b[1;32m     25\u001b[0m         \u001b[0mout_buffers\u001b[0m\u001b[0;34m.\u001b[0m\u001b[0mappend\u001b[0m\u001b[0;34m(\u001b[0m\u001b[0mout_buffer1\u001b[0m\u001b[0;34m)\u001b[0m\u001b[0;34m\u001b[0m\u001b[0m\n\u001b[1;32m     26\u001b[0m         \u001b[0mout_buffer2\u001b[0m \u001b[0;34m=\u001b[0m \u001b[0mallocate\u001b[0m\u001b[0;34m(\u001b[0m\u001b[0mshape\u001b[0m\u001b[0;34m=\u001b[0m\u001b[0;34m(\u001b[0m\u001b[0mheight\u001b[0m\u001b[0;34m-\u001b[0m\u001b[0;36m2\u001b[0m\u001b[0;34m,\u001b[0m \u001b[0mwidth\u001b[0m\u001b[0;34m-\u001b[0m\u001b[0;36m2\u001b[0m\u001b[0;34m,\u001b[0m \u001b[0;36m1\u001b[0m\u001b[0;34m)\u001b[0m\u001b[0;34m,\u001b[0m\u001b[0mdtype\u001b[0m\u001b[0;34m=\u001b[0m\u001b[0mnp\u001b[0m\u001b[0;34m.\u001b[0m\u001b[0muint32\u001b[0m\u001b[0;34m,\u001b[0m \u001b[0mcacheable\u001b[0m\u001b[0;34m=\u001b[0m\u001b[0;36m1\u001b[0m\u001b[0;34m)\u001b[0m\u001b[0;34m\u001b[0m\u001b[0m\n",
      "\u001b[0;32m/usr/local/lib/python3.6/dist-packages/pynq/buffer.py\u001b[0m in \u001b[0;36mallocate\u001b[0;34m(shape, dtype, target, **kwargs)\u001b[0m\n\u001b[1;32m    170\u001b[0m     \u001b[0;32mif\u001b[0m \u001b[0mtarget\u001b[0m \u001b[0;32mis\u001b[0m \u001b[0;32mNone\u001b[0m\u001b[0;34m:\u001b[0m\u001b[0;34m\u001b[0m\u001b[0m\n\u001b[1;32m    171\u001b[0m         \u001b[0mtarget\u001b[0m \u001b[0;34m=\u001b[0m \u001b[0mDevice\u001b[0m\u001b[0;34m.\u001b[0m\u001b[0mactive_device\u001b[0m\u001b[0;34m\u001b[0m\u001b[0m\n\u001b[0;32m--> 172\u001b[0;31m     \u001b[0;32mreturn\u001b[0m \u001b[0mtarget\u001b[0m\u001b[0;34m.\u001b[0m\u001b[0mallocate\u001b[0m\u001b[0;34m(\u001b[0m\u001b[0mshape\u001b[0m\u001b[0;34m,\u001b[0m \u001b[0mdtype\u001b[0m\u001b[0;34m,\u001b[0m \u001b[0;34m**\u001b[0m\u001b[0mkwargs\u001b[0m\u001b[0;34m)\u001b[0m\u001b[0;34m\u001b[0m\u001b[0m\n\u001b[0m",
      "\u001b[0;32m/usr/local/lib/python3.6/dist-packages/pynq/pl_server/device.py\u001b[0m in \u001b[0;36mallocate\u001b[0;34m(self, shape, dtype, **kwargs)\u001b[0m\n\u001b[1;32m    292\u001b[0m \u001b[0;34m\u001b[0m\u001b[0m\n\u001b[1;32m    293\u001b[0m         \"\"\"\n\u001b[0;32m--> 294\u001b[0;31m         \u001b[0;32mreturn\u001b[0m \u001b[0mself\u001b[0m\u001b[0;34m.\u001b[0m\u001b[0mdefault_memory\u001b[0m\u001b[0;34m.\u001b[0m\u001b[0mallocate\u001b[0m\u001b[0;34m(\u001b[0m\u001b[0mshape\u001b[0m\u001b[0;34m,\u001b[0m \u001b[0mdtype\u001b[0m\u001b[0;34m,\u001b[0m \u001b[0;34m**\u001b[0m\u001b[0mkwargs\u001b[0m\u001b[0;34m)\u001b[0m\u001b[0;34m\u001b[0m\u001b[0m\n\u001b[0m\u001b[1;32m    295\u001b[0m \u001b[0;34m\u001b[0m\u001b[0m\n\u001b[1;32m    296\u001b[0m     \u001b[0;32mdef\u001b[0m \u001b[0mreset\u001b[0m\u001b[0;34m(\u001b[0m\u001b[0mself\u001b[0m\u001b[0;34m,\u001b[0m \u001b[0mparser\u001b[0m\u001b[0;34m=\u001b[0m\u001b[0;32mNone\u001b[0m\u001b[0;34m,\u001b[0m \u001b[0mtimestamp\u001b[0m\u001b[0;34m=\u001b[0m\u001b[0;32mNone\u001b[0m\u001b[0;34m,\u001b[0m \u001b[0mbitfile_name\u001b[0m\u001b[0;34m=\u001b[0m\u001b[0;32mNone\u001b[0m\u001b[0;34m)\u001b[0m\u001b[0;34m:\u001b[0m\u001b[0;34m\u001b[0m\u001b[0m\n",
      "\u001b[0;32m/usr/local/lib/python3.6/dist-packages/pynq/xlnk.py\u001b[0m in \u001b[0;36mallocate\u001b[0;34m(self, *args, **kwargs)\u001b[0m\n\u001b[1;32m    255\u001b[0m \u001b[0;34m\u001b[0m\u001b[0m\n\u001b[1;32m    256\u001b[0m         \"\"\"\n\u001b[0;32m--> 257\u001b[0;31m         \u001b[0;32mreturn\u001b[0m \u001b[0mself\u001b[0m\u001b[0;34m.\u001b[0m\u001b[0mcma_array\u001b[0m\u001b[0;34m(\u001b[0m\u001b[0;34m*\u001b[0m\u001b[0margs\u001b[0m\u001b[0;34m,\u001b[0m \u001b[0;34m**\u001b[0m\u001b[0mkwargs\u001b[0m\u001b[0;34m)\u001b[0m\u001b[0;34m\u001b[0m\u001b[0m\n\u001b[0m\u001b[1;32m    258\u001b[0m \u001b[0;34m\u001b[0m\u001b[0m\n\u001b[1;32m    259\u001b[0m     def cma_array(self, shape, dtype=np.uint32, cacheable=0,\n",
      "\u001b[0;32m/usr/local/lib/python3.6/dist-packages/pynq/xlnk.py\u001b[0m in \u001b[0;36mcma_array\u001b[0;34m(self, shape, dtype, cacheable, pointer, cache)\u001b[0m\n\u001b[1;32m    290\u001b[0m         \u001b[0mlength\u001b[0m \u001b[0;34m=\u001b[0m \u001b[0melements\u001b[0m \u001b[0;34m*\u001b[0m \u001b[0mdtype\u001b[0m\u001b[0;34m.\u001b[0m\u001b[0mitemsize\u001b[0m\u001b[0;34m\u001b[0m\u001b[0m\n\u001b[1;32m    291\u001b[0m         \u001b[0;32mif\u001b[0m \u001b[0mpointer\u001b[0m \u001b[0;32mis\u001b[0m \u001b[0;32mNone\u001b[0m\u001b[0;34m:\u001b[0m\u001b[0;34m\u001b[0m\u001b[0m\n\u001b[0;32m--> 292\u001b[0;31m             \u001b[0mraw_pointer\u001b[0m \u001b[0;34m=\u001b[0m \u001b[0mself\u001b[0m\u001b[0;34m.\u001b[0m\u001b[0mcma_alloc\u001b[0m\u001b[0;34m(\u001b[0m\u001b[0mlength\u001b[0m\u001b[0;34m,\u001b[0m \u001b[0mcacheable\u001b[0m\u001b[0;34m=\u001b[0m\u001b[0mcacheable\u001b[0m\u001b[0;34m)\u001b[0m\u001b[0;34m\u001b[0m\u001b[0m\n\u001b[0m\u001b[1;32m    293\u001b[0m             \u001b[0mpointer\u001b[0m \u001b[0;34m=\u001b[0m \u001b[0mself\u001b[0m\u001b[0;34m.\u001b[0m\u001b[0mffi\u001b[0m\u001b[0;34m.\u001b[0m\u001b[0mgc\u001b[0m\u001b[0;34m(\u001b[0m\u001b[0mraw_pointer\u001b[0m\u001b[0;34m,\u001b[0m \u001b[0mself\u001b[0m\u001b[0;34m.\u001b[0m\u001b[0mcma_free\u001b[0m\u001b[0;34m,\u001b[0m \u001b[0msize\u001b[0m\u001b[0;34m=\u001b[0m\u001b[0mlength\u001b[0m\u001b[0;34m)\u001b[0m\u001b[0;34m\u001b[0m\u001b[0m\n\u001b[1;32m    294\u001b[0m         \u001b[0mbuffer\u001b[0m \u001b[0;34m=\u001b[0m \u001b[0mself\u001b[0m\u001b[0;34m.\u001b[0m\u001b[0mcma_get_buffer\u001b[0m\u001b[0;34m(\u001b[0m\u001b[0mpointer\u001b[0m\u001b[0;34m,\u001b[0m \u001b[0mlength\u001b[0m\u001b[0;34m)\u001b[0m\u001b[0;34m\u001b[0m\u001b[0m\n",
      "\u001b[0;32m/usr/local/lib/python3.6/dist-packages/pynq/xlnk.py\u001b[0m in \u001b[0;36mcma_alloc\u001b[0;34m(self, length, cacheable, data_type)\u001b[0m\n\u001b[1;32m    224\u001b[0m         \u001b[0mbuf\u001b[0m \u001b[0;34m=\u001b[0m \u001b[0mself\u001b[0m\u001b[0;34m.\u001b[0m\u001b[0mlibxlnk\u001b[0m\u001b[0;34m.\u001b[0m\u001b[0mcma_alloc\u001b[0m\u001b[0;34m(\u001b[0m\u001b[0mlength\u001b[0m\u001b[0;34m,\u001b[0m \u001b[0mcacheable\u001b[0m\u001b[0;34m)\u001b[0m\u001b[0;34m\u001b[0m\u001b[0m\n\u001b[1;32m    225\u001b[0m         \u001b[0;32mif\u001b[0m \u001b[0mbuf\u001b[0m \u001b[0;34m==\u001b[0m \u001b[0mself\u001b[0m\u001b[0;34m.\u001b[0m\u001b[0mffi\u001b[0m\u001b[0;34m.\u001b[0m\u001b[0mNULL\u001b[0m\u001b[0;34m:\u001b[0m\u001b[0;34m\u001b[0m\u001b[0m\n\u001b[0;32m--> 226\u001b[0;31m             \u001b[0;32mraise\u001b[0m \u001b[0mRuntimeError\u001b[0m\u001b[0;34m(\u001b[0m\u001b[0;34m\"Failed to allocate Memory!\"\u001b[0m\u001b[0;34m)\u001b[0m\u001b[0;34m\u001b[0m\u001b[0m\n\u001b[0m\u001b[1;32m    227\u001b[0m         \u001b[0mself\u001b[0m\u001b[0;34m.\u001b[0m\u001b[0mbufmap\u001b[0m\u001b[0;34m[\u001b[0m\u001b[0mbuf\u001b[0m\u001b[0;34m]\u001b[0m \u001b[0;34m=\u001b[0m \u001b[0mlength\u001b[0m\u001b[0;34m\u001b[0m\u001b[0m\n\u001b[1;32m    228\u001b[0m         \u001b[0;32mreturn\u001b[0m \u001b[0mself\u001b[0m\u001b[0;34m.\u001b[0m\u001b[0mffi\u001b[0m\u001b[0;34m.\u001b[0m\u001b[0mcast\u001b[0m\u001b[0;34m(\u001b[0m\u001b[0mdata_type\u001b[0m \u001b[0;34m+\u001b[0m \u001b[0;34m\"*\"\u001b[0m\u001b[0;34m,\u001b[0m \u001b[0mbuf\u001b[0m\u001b[0;34m)\u001b[0m\u001b[0;34m\u001b[0m\u001b[0m\n",
      "\u001b[0;31mRuntimeError\u001b[0m: Failed to allocate Memory!"
     ]
    }
   ],
   "source": [
    "# Max run for each directory\n",
    "run_count = 15\n",
    "\n",
    "start_time = time.time()\n",
    "# Test performance at multiple bit precisions\n",
    "for bit_precision in range(1,3):\n",
    "    if(bit_precision==0):\n",
    "        print(\"Processing images at 8 bit precision\")\n",
    "        Convolution_design = Overlay(\"Hardware-Files/Stable/PL_Convolution_8b.bit\",)\n",
    "    elif(bit_precision==1):\n",
    "        print(\"Processing images at 16 bit precision\")\n",
    "        Convolution_design = Overlay(\"Hardware-Files/Stable/PL_Convolution_16b.bit\",)\n",
    "    elif(bit_precision==2):\n",
    "        print(\"Processing images at 32 bit precision\")\n",
    "        Convolution_design = Overlay(\"Hardware-Files/Stable/PL_Convolution_32b.bit\",)\n",
    "\n",
    "    dma = Convolution_design.axi_dma_0\n",
    "    controller = Convolution_design.Convolution_Controll_0\n",
    "    \n",
    "    #Enable IP control register\n",
    "    controller.write(0,1)\n",
    "    \n",
    "    #Input Filter set\n",
    "    for x in range(kernelsize):\n",
    "        for y in range(kernelsize):\n",
    "            controller.write(filterBase+((x*kernelsize)+y)*4,kernel[y][x])\n",
    "    \n",
    "#     for i in range(len(image_directories)):\n",
    "    for i in range(len(image_directories)):\n",
    "        # Pre-load image directory\n",
    "#         im_dir = 'Images/'+image_directories[i]+'/'\n",
    "        im_dir = 'Images/w3840/'\n",
    "        image_list = []\n",
    "        for filename in glob.glob(im_dir+'*.jpg'):\n",
    "            im=Image.open(filename)\n",
    "            image_list.append(im)\n",
    "            print(\"#\",end='') \n",
    "            if(len(image_list)==run_count): break\n",
    "\n",
    "        # Pre-load image directory\n",
    "        print(\"\\n# Now processing images in \\'\"+im_dir+\"\\' with a width of\",widths[i])\n",
    "        elapse = process_dir(bit_precision,image_list)\n",
    "        evaluate(im_dir,elapse)\n",
    "        if(i!=len(image_directories)-1): print(\"\\n\\n\\n\")\n",
    "            \n",
    "    if(bit_precision!=2): print(\"\\n\")\n",
    "stop_time = time.time()\n",
    "\n",
    "print(\"\\nTotal test runtime:\",round(stop_time-start_time,3),\"seconds\")"
   ]
  },
  {
   "cell_type": "code",
   "execution_count": null,
   "metadata": {},
   "outputs": [],
   "source": []
  }
 ],
 "metadata": {
  "kernelspec": {
   "display_name": "Python 3",
   "language": "python",
   "name": "python3"
  },
  "language_info": {
   "codemirror_mode": {
    "name": "ipython",
    "version": 3
   },
   "file_extension": ".py",
   "mimetype": "text/x-python",
   "name": "python",
   "nbconvert_exporter": "python",
   "pygments_lexer": "ipython3",
   "version": "3.6.5"
  }
 },
 "nbformat": 4,
 "nbformat_minor": 2
}
