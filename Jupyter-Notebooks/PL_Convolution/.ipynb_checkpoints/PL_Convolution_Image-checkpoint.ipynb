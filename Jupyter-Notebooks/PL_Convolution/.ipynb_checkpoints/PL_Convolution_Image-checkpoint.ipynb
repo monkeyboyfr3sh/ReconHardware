{
 "cells": [
  {
   "cell_type": "code",
   "execution_count": 1,
   "metadata": {},
   "outputs": [
    {
     "data": {
      "application/javascript": [
       "\n",
       "try {\n",
       "require(['notebook/js/codecell'], function(codecell) {\n",
       "  codecell.CodeCell.options_default.highlight_modes[\n",
       "      'magic_text/x-csrc'] = {'reg':[/^%%microblaze/]};\n",
       "  Jupyter.notebook.events.one('kernel_ready.Kernel', function(){\n",
       "      Jupyter.notebook.get_cells().map(function(cell){\n",
       "          if (cell.cell_type == 'code'){ cell.auto_highlight(); } }) ;\n",
       "  });\n",
       "});\n",
       "} catch (e) {};\n"
      ]
     },
     "metadata": {},
     "output_type": "display_data"
    },
    {
     "data": {
      "application/javascript": [
       "\n",
       "try {\n",
       "require(['notebook/js/codecell'], function(codecell) {\n",
       "  codecell.CodeCell.options_default.highlight_modes[\n",
       "      'magic_text/x-csrc'] = {'reg':[/^%%pybind11/]};\n",
       "  Jupyter.notebook.events.one('kernel_ready.Kernel', function(){\n",
       "      Jupyter.notebook.get_cells().map(function(cell){\n",
       "          if (cell.cell_type == 'code'){ cell.auto_highlight(); } }) ;\n",
       "  });\n",
       "});\n",
       "} catch (e) {};\n"
      ]
     },
     "metadata": {},
     "output_type": "display_data"
    }
   ],
   "source": [
    "from PIL import Image, ImageDraw\n",
    "from math import floor\n",
    "import numpy as np\n",
    "import matplotlib.pyplot as plt\n",
    "%matplotlib inline\n",
    "from pynq import allocate, Overlay\n",
    "from random import seed\n",
    "from random import randint\n",
    "from random import getrandbits"
   ]
  },
  {
   "cell_type": "code",
   "execution_count": 2,
   "metadata": {},
   "outputs": [],
   "source": [
    "def run_kernel_HW(image):\n",
    "    # Transfer color channel 0\n",
    "    in_buffer[:] = np.array(image)[:,:,[0]]\n",
    "    dma.sendchannel.transfer(in_buffer)\n",
    "    dma.recvchannel.transfer(out_buffer0)\n",
    "    dma.sendchannel.wait()\n",
    "    dma.recvchannel.wait()\n",
    "    # Transfer color channel 1\n",
    "    in_buffer[:] = np.array(image)[:,:,[1]]\n",
    "    dma.sendchannel.transfer(in_buffer)\n",
    "    dma.recvchannel.transfer(out_buffer1)\n",
    "    dma.sendchannel.wait()\n",
    "    dma.recvchannel.wait()\n",
    "    # Transfer color channel 2\n",
    "    in_buffer[:] = np.array(image)[:,:,[2]]\n",
    "    dma.sendchannel.transfer(in_buffer)\n",
    "    dma.recvchannel.transfer(out_buffer2)\n",
    "    dma.sendchannel.wait()\n",
    "    dma.recvchannel.wait()"
   ]
  },
  {
   "cell_type": "code",
   "execution_count": 3,
   "metadata": {},
   "outputs": [],
   "source": [
    "def run_kernel_SW():\n",
    "    # Load image:\n",
    "    input_image = original_image\n",
    "    input_pixels = input_image.load()\n",
    "\n",
    "    # Middle of the kernel\n",
    "    offset = len(kernel) // 2\n",
    "    new_width = input_image.size[0]-offset\n",
    "    new_height = input_image.size[0]-offset\n",
    "    # Create output image\n",
    "    output_image = Image.new(\"RGB\", (new_width,new_height))\n",
    "    draw = ImageDraw.Draw(output_image)\n",
    "\n",
    "    # Compute convolution with kernel\n",
    "    for x in range(offset, input_image.width - offset):\n",
    "        for y in range(offset, input_image.height - offset):\n",
    "            acc = [0, 0, 0]\n",
    "            for a in range(len(kernel)):\n",
    "                for b in range(len(kernel)):\n",
    "                    xn = x + a - offset\n",
    "                    yn = y + b - offset\n",
    "                    pixel = input_pixels[xn, yn]\n",
    "                    acc[0] += pixel[0] * kernel[a][b]\n",
    "                    acc[1] += pixel[1] * kernel[a][b]\n",
    "                    acc[2] += pixel[2] * kernel[a][b]\n",
    "\n",
    "            draw.point((x, y), (int(acc[0]), int(acc[1]), int(acc[2])))\n",
    "\n",
    "    output_image.save(\"Output/output_sw.png\")"
   ]
  },
  {
   "cell_type": "code",
   "execution_count": 4,
   "metadata": {},
   "outputs": [],
   "source": [
    "filterBase = 24\n",
    "dataBase = 60\n",
    "def output_registers():\n",
    "    print(\"Control Enable:         %d\" % (controller.read(0)))\n",
    "    print(\"Reset:                  %d\" % (controller.read(4)))\n",
    "    print(\"State Machine Register: %d\" % (controller.read(8)))\n",
    "    print(\"Last Calculated Value:  %d\" % (controller.read(12)))\n",
    "    print(\"Image Width:            %d\" % (controller.read(16)))\n",
    "    print(\"Image Height:           %d\" % (controller.read(20)))\n",
    "    print(\"\\nFilter Set:\")\n",
    "    for i in range(9):\n",
    "        print(\"filterSet[%d] = %d\" % (i,controller.read((i*4)+filterBase)))\n",
    "    print(\"\\nData Set:\")\n",
    "    for i in range(9):\n",
    "        print(\"dataSet[%d] = %d\" % (i,controller.read((i*4)+dataBase)))\n",
    "    print(\"\\n\")"
   ]
  },
  {
   "cell_type": "markdown",
   "metadata": {},
   "source": [
    "## Configurable Hardware Image Convolution\n",
    "\n",
    "Select an image from the /Images dir\n",
    "\n",
    "**To run on hardware convolution, image witdh must be a multiple of 32/DATA_WIDTH. E.g. 8 bit input must be a multiple of 4 in width.**\n",
    "\n",
    " - This is due to the way BRAM coupler is storing/reading from BRAM memory map."
   ]
  },
  {
   "cell_type": "code",
   "execution_count": 5,
   "metadata": {},
   "outputs": [],
   "source": [
    "image_path = \"Images/8_8_4HNRx80.jpg\"\n",
    "original_image = Image.open(image_path)"
   ]
  },
  {
   "cell_type": "code",
   "execution_count": 6,
   "metadata": {},
   "outputs": [
    {
     "name": "stdout",
     "output_type": "stream",
     "text": [
      "Original Image size: 1080x1376 pixels.\n"
     ]
    },
    {
     "data": {
      "image/png": "[encoded data removed]",
      "text/plain": [
       "<matplotlib.figure.Figure at 0xaee072d0>"
      ]
     },
     "metadata": {},
     "output_type": "display_data"
    }
   ],
   "source": [
    "width, height = original_image.size\n",
    "canvas = plt.gcf()\n",
    "size = canvas.get_size_inches()\n",
    "canvas.set_size_inches(size)\n",
    "print(\"Original Image size: {}x{} pixels.\".format(width, height))\n",
    "_ = plt.imshow(original_image)"
   ]
  },
  {
   "cell_type": "markdown",
   "metadata": {},
   "source": [
    "#### Bit precision selection:\n",
    " - 0 for 8 bit data\n",
    " - 1 for 16 bit data\n",
    " - 2 for 32 bit data\n",
    " \n",
    "(Should not runtime for hardware)"
   ]
  },
  {
   "cell_type": "code",
   "execution_count": 7,
   "metadata": {},
   "outputs": [],
   "source": [
    "bit_precision = 2\n",
    "\n",
    "if(bit_precision==0):\n",
    "    Convolution_design = Overlay(\"Hardware-Files/Stable/PL_Convolution_8b.bit\",)\n",
    "elif(bit_precision==1):\n",
    "    Convolution_design = Overlay(\"Hardware-Files/Stable/PL_Convolution_16b.bit\",)\n",
    "elif(bit_precision==2):\n",
    "    Convolution_design = Overlay(\"Hardware-Files/Stable/PL_Convolution_32b.bit\",)\n",
    "\n",
    "dma = Convolution_design.axi_dma_0\n",
    "controller = Convolution_design.Convolution_Controll_0"
   ]
  },
  {
   "cell_type": "code",
   "execution_count": 8,
   "metadata": {},
   "outputs": [],
   "source": [
    "# Creating Correct precision input buffer\n",
    "if(bit_precision==0):\n",
    "    in_buffer = allocate(shape=(height, width, 1),dtype=np.uint8, cacheable=1)\n",
    "elif(bit_precision==1):\n",
    "    in_buffer = allocate(shape=(height, width, 1),dtype=np.uint16, cacheable=1)\n",
    "elif(bit_precision==2):\n",
    "    in_buffer = allocate(shape=(height, width, 1),dtype=np.uint32, cacheable=1)\n",
    "\n",
    "# Single channel buffers\n",
    "out_buffer0 = allocate(shape=(height-2, width-2, 1),dtype=np.uint32, cacheable=1)\n",
    "out_buffer1 = allocate(shape=(height-2, width-2, 1),dtype=np.uint32, cacheable=1)\n",
    "out_buffer2 = allocate(shape=(height-2, width-2, 1),dtype=np.uint32, cacheable=1)\n",
    "# Three channel buffer for combining channels\n",
    "out_buffer = allocate(shape=(height-2, width-2, 3),dtype=np.uint8, cacheable=1)"
   ]
  },
  {
   "cell_type": "code",
   "execution_count": null,
   "metadata": {},
   "outputs": [],
   "source": [
    "kernelsize = 3\n",
    "# High-pass kernel\n",
    "kernel = [[ 1, 1, 1 ],\n",
    "          [ 1, 1, 1 ],\n",
    "          [ 1, 1, 1 ]]"
   ]
  },
  {
   "cell_type": "code",
   "execution_count": null,
   "metadata": {},
   "outputs": [],
   "source": [
    "#Enable IP control register\n",
    "controller.write(0,1)\n",
    "\n",
    "#Input Filter set\n",
    "for x in range(kernelsize):\n",
    "    for y in range(kernelsize):\n",
    "        controller.write(filterBase+((x*kernelsize)+y)*4,kernel[y][x])\n",
    "\n",
    "#Input width/height\n",
    "controller.write(16,width)#Width\n",
    "controller.write(20,height)#Height"
   ]
  },
  {
   "cell_type": "code",
   "execution_count": null,
   "metadata": {},
   "outputs": [],
   "source": [
    "# %%timeit\n",
    "\n",
    "# Hardware performance\n",
    "run_kernel_HW()"
   ]
  },
  {
   "cell_type": "code",
   "execution_count": null,
   "metadata": {
    "scrolled": true
   },
   "outputs": [],
   "source": [
    "# %%timeit\n",
    "\n",
    "# Software performance\n",
    "run_kernel_SW()"
   ]
  },
  {
   "cell_type": "code",
   "execution_count": null,
   "metadata": {},
   "outputs": [],
   "source": [
    "# Clipping values to be in correct bit range for RGB png\n",
    "min = 0\n",
    "max = 255\n",
    "out_buffer[:,:,[0]] = np.clip(out_buffer0, 0, max)\n",
    "out_buffer[:,:,[1]]  = np.clip(out_buffer1, 0, max)\n",
    "out_buffer[:,:,[2]]= np.clip(out_buffer2, 0, max)"
   ]
  },
  {
   "cell_type": "code",
   "execution_count": null,
   "metadata": {},
   "outputs": [],
   "source": [
    "convolution_image = Image.fromarray(out_buffer)\n",
    "conv_width, conv_height = convolution_image.size\n",
    "\n",
    "canvas = plt.gcf()\n",
    "size = canvas.get_size_inches()\n",
    "canvas.set_size_inches(size)\n",
    "print(\"Convolution Image size: {}x{} pixels.\".format(conv_width, conv_height))\n",
    "_ = plt.imshow(convolution_image)\n",
    "convolution_image.save(\"Output/output_hw.png\", \"PNG\")\n",
    "\n",
    "if(bit_precision==0):\n",
    "    print(\"Note: this bit precision is likely to saturate very quickly. As of now this overflows count\")"
   ]
  },
  {
   "cell_type": "markdown",
   "metadata": {},
   "source": [
    "### Ouput files are located in \"jupyter_notebooks/PL_Convolution/Output\"\n",
    "**Software output will not appear in dir if %%timeit was used**"
   ]
  },
  {
   "cell_type": "code",
   "execution_count": null,
   "metadata": {},
   "outputs": [],
   "source": []
  },
  {
   "cell_type": "code",
   "execution_count": null,
   "metadata": {},
   "outputs": [],
   "source": []
  }
 ],
 "metadata": {
  "kernelspec": {
   "display_name": "Python 3",
   "language": "python",
   "name": "python3"
  },
  "language_info": {
   "codemirror_mode": {
    "name": "ipython",
    "version": 3
   },
   "file_extension": ".py",
   "mimetype": "text/x-python",
   "name": "python",
   "nbconvert_exporter": "python",
   "pygments_lexer": "ipython3",
   "version": "3.6.5"
  }
 },
 "nbformat": 4,
 "nbformat_minor": 2
}
