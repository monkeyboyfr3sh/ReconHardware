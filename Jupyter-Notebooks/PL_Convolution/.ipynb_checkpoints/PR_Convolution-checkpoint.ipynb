{
 "cells": [
  {
   "cell_type": "code",
   "execution_count": 2,
   "metadata": {},
   "outputs": [],
   "source": [
    "from PIL import Image\n",
    "from math import floor\n",
    "import numpy as np\n",
    "import matplotlib.pyplot as plt\n",
    "%matplotlib inline\n",
    "from pynq import allocate, Overlay\n",
    "from random import seed\n",
    "from random import randint\n",
    "from random import getrandbits"
   ]
  },
  {
   "cell_type": "code",
   "execution_count": 3,
   "metadata": {},
   "outputs": [],
   "source": [
    "def run_kernel():\n",
    "    dma.sendchannel.transfer(in_buffer)\n",
    "    dma.recvchannel.transfer(out_buffer)\n",
    "    dma.sendchannel.wait()\n",
    "    dma.recvchannel.wait()"
   ]
  },
  {
   "cell_type": "code",
   "execution_count": 4,
   "metadata": {},
   "outputs": [],
   "source": [
    "filterBase = 24\n",
    "dataBase = 60\n",
    "def output_registers():\n",
    "    print(\"Control Enable:         %d\" % (controller.read(0)))\n",
    "    print(\"Reset:                  %d\" % (controller.read(4)))\n",
    "    print(\"State Machine Register: %d\" % (controller.read(8)))\n",
    "    print(\"Last Calculated Value:  %d\" % (controller.read(12)))\n",
    "    print(\"Image Width:            %d\" % (controller.read(16)))\n",
    "    print(\"Image Height:           %d\" % (controller.read(20)))\n",
    "    print(\"\\nFilter Set:\")\n",
    "    for i in range(9):\n",
    "        print(\"filterSet[%d] = %d\" % (i,controller.read((i*4)+filterBase)))\n",
    "    print(\"\\nData Set:\")\n",
    "    for i in range(9):\n",
    "        print(\"dataSet[%d] = %d\" % (i,controller.read((i*4)+dataBase)))\n",
    "    print(\"\\n\")"
   ]
  },
  {
   "cell_type": "code",
   "execution_count": 10,
   "metadata": {
    "scrolled": false
   },
   "outputs": [],
   "source": [
    "Convolution_design = Overlay(\"Hardware-Files/PR_Convolution.bit\",)\n",
    "dfx = Convolution_design.dfx_controller_0\n",
    "dma = Convolution_design.axi_dma_0\n",
    "controller = Convolution_design.Convolution_Controll_0"
   ]
  },
  {
   "cell_type": "code",
   "execution_count": 11,
   "metadata": {},
   "outputs": [],
   "source": [
    "width = 4\n",
    "height = 4\n",
    "kernel_size = 3\n",
    "\n",
    "in_buffer = allocate(shape=(height, width, 1),dtype=np.uint32, cacheable=1)\n",
    "out_buffer = allocate(shape=(height-2, width-2, 1),dtype=np.uint32, cacheable=1)\n",
    "\n",
    "for i in range(width):\n",
    "    for j in range(height):\n",
    "        in_buffer[i][j] = i*width+j\n",
    "#         in_buffer[j][i] = 10 if bool(getrandbits(1)) else 100"
   ]
  },
  {
   "cell_type": "code",
   "execution_count": 12,
   "metadata": {},
   "outputs": [],
   "source": [
    "#Enable IP control register\n",
    "controller.write(0,1)\n",
    "kernelsize = 3\n",
    "# High-pass kernel\n",
    "kernel = [[  0,   0,   0 ],\n",
    "          [  0,   1,   0 ],\n",
    "          [  0,   0,   0 ]]\n",
    "\n",
    "#Input Filter set\n",
    "for x in range(kernelsize):\n",
    "    for y in range(kernelsize):\n",
    "        controller.write(filterBase+((x*kernelsize)+y)*4,kernel[y][x])\n",
    "\n",
    "#Input width/height\n",
    "controller.write(16,width)#Width\n",
    "controller.write(20,height)#Height"
   ]
  },
  {
   "cell_type": "code",
   "execution_count": 13,
   "metadata": {},
   "outputs": [
    {
     "name": "stdout",
     "output_type": "stream",
     "text": [
      "Control Enable:         1\n",
      "Reset:                  0\n",
      "State Machine Register: 1\n",
      "Last Calculated Value:  0\n",
      "Image Width:            4\n",
      "Image Height:           4\n",
      "\n",
      "Filter Set:\n",
      "filterSet[0] = 0\n",
      "filterSet[1] = 0\n",
      "filterSet[2] = 0\n",
      "filterSet[3] = 0\n",
      "filterSet[4] = 1\n",
      "filterSet[5] = 0\n",
      "filterSet[6] = 0\n",
      "filterSet[7] = 0\n",
      "filterSet[8] = 0\n",
      "\n",
      "Data Set:\n",
      "dataSet[0] = 0\n",
      "dataSet[1] = 0\n",
      "dataSet[2] = 0\n",
      "dataSet[3] = 0\n",
      "dataSet[4] = 0\n",
      "dataSet[5] = 0\n",
      "dataSet[6] = 0\n",
      "dataSet[7] = 0\n",
      "dataSet[8] = 0\n",
      "\n",
      "\n"
     ]
    }
   ],
   "source": [
    "output_registers()"
   ]
  },
  {
   "cell_type": "code",
   "execution_count": 14,
   "metadata": {},
   "outputs": [],
   "source": [
    "run_kernel()"
   ]
  },
  {
   "cell_type": "code",
   "execution_count": 35,
   "metadata": {},
   "outputs": [
    {
     "name": "stdout",
     "output_type": "stream",
     "text": [
      "Control Enable:         1\n",
      "Reset:                  0\n",
      "State Machine Register: 1\n",
      "Last Calculated Value:  9\n",
      "Image Width:            8\n",
      "Image Height:           8\n",
      "\n",
      "Filter Set:\n",
      "filterSet[0] = 0\n",
      "filterSet[1] = 0\n",
      "filterSet[2] = 0\n",
      "filterSet[3] = 0\n",
      "filterSet[4] = 1\n",
      "filterSet[5] = 0\n",
      "filterSet[6] = 0\n",
      "filterSet[7] = 0\n",
      "filterSet[8] = 0\n",
      "\n",
      "Data Set:\n",
      "dataSet[0] = 0\n",
      "dataSet[1] = 0\n",
      "dataSet[2] = 0\n",
      "dataSet[3] = 0\n",
      "dataSet[4] = 0\n",
      "dataSet[5] = 0\n",
      "dataSet[6] = 0\n",
      "dataSet[7] = 0\n",
      "dataSet[8] = 0\n",
      "\n",
      "\n"
     ]
    }
   ],
   "source": [
    "output_registers()"
   ]
  },
  {
   "cell_type": "code",
   "execution_count": 15,
   "metadata": {},
   "outputs": [
    {
     "name": "stdout",
     "output_type": "stream",
     "text": [
      "0x0 0x1 0x2 0x3 \n",
      "0x4 0x5 0x6 0x7 \n",
      "0x8 0x9 0xa 0xb \n",
      "0xc 0xd 0xe 0xf \n"
     ]
    }
   ],
   "source": [
    "for i in range(height):\n",
    "    for j in range(width):\n",
    "        print(hex(in_buffer[i,j,0]),end=' ')\n",
    "        if(j==width-1):\n",
    "            print()"
   ]
  },
  {
   "cell_type": "code",
   "execution_count": 37,
   "metadata": {},
   "outputs": [
    {
     "name": "stdout",
     "output_type": "stream",
     "text": [
      "0x0 0x0 0x0 0x0 0x0 0x0 \n",
      "0x0 0x0 0x0 0x0 0x0 0x0 \n",
      "0x0 0x0 0x0 0x0 0x0 0x0 \n",
      "0x0 0x0 0x0 0x0 0x0 0x0 \n",
      "0x0 0x0 0x0 0x0 0x0 0x0 \n",
      "0x0 0x0 0x0 0x0 0x0 0x0 \n"
     ]
    }
   ],
   "source": [
    "for i in range(height-2):\n",
    "    for j in range(width-2):\n",
    "        print(hex(out_buffer[i,j,0]),end=' ')\n",
    "        if(j==width-3):\n",
    "            print()"
   ]
  },
  {
   "cell_type": "code",
   "execution_count": 16,
   "metadata": {},
   "outputs": [
    {
     "name": "stdout",
     "output_type": "stream",
     "text": [
      "File Size is : 4045671 bytes\n"
     ]
    }
   ],
   "source": [
    "import os\n",
    " \n",
    "file_size = os.path.getsize('Hardware-Files/PR_Convolution.bit')\n",
    "print(\"File Size is :\", file_size, \"bytes\")\n",
    "\n",
    "in_buffer = allocate(shape=(file_size, 1, 1),dtype=np.uint32, cacheable=1)"
   ]
  },
  {
   "cell_type": "code",
   "execution_count": 18,
   "metadata": {},
   "outputs": [],
   "source": [
    "dfx.write(0x68,file_size)"
   ]
  },
  {
   "cell_type": "code",
   "execution_count": null,
   "metadata": {},
   "outputs": [],
   "source": []
  }
 ],
 "metadata": {
  "kernelspec": {
   "display_name": "Python 3",
   "language": "python",
   "name": "python3"
  },
  "language_info": {
   "codemirror_mode": {
    "name": "ipython",
    "version": 3
   },
   "file_extension": ".py",
   "mimetype": "text/x-python",
   "name": "python",
   "nbconvert_exporter": "python",
   "pygments_lexer": "ipython3",
   "version": "3.6.5"
  }
 },
 "nbformat": 4,
 "nbformat_minor": 2
}
